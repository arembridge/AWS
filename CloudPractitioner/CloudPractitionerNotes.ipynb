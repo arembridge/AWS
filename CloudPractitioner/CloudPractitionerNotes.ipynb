{
 "cells": [
  {
   "cell_type": "markdown",
   "metadata": {
    "toc": true
   },
   "source": [
    "<h1>Table of Contents<span class=\"tocSkip\"></span></h1>\n",
    "<div class=\"toc\"><ul class=\"toc-item\"><li><span><a href=\"#Intro-to-AWS\" data-toc-modified-id=\"Intro-to-AWS-1\"><span class=\"toc-item-num\">1&nbsp;&nbsp;</span>Intro to AWS</a></span><ul class=\"toc-item\"><li><span><a href=\"#Advantages-of-the-cloud\" data-toc-modified-id=\"Advantages-of-the-cloud-1.1\"><span class=\"toc-item-num\">1.1&nbsp;&nbsp;</span>Advantages of the cloud</a></span></li><li><span><a href=\"#Types-of-Cloud-Computing\" data-toc-modified-id=\"Types-of-Cloud-Computing-1.2\"><span class=\"toc-item-num\">1.2&nbsp;&nbsp;</span>Types of Cloud Computing</a></span></li><li><span><a href=\"#Regions-/-Availability-Zones\" data-toc-modified-id=\"Regions-/-Availability-Zones-1.3\"><span class=\"toc-item-num\">1.3&nbsp;&nbsp;</span>Regions / Availability Zones</a></span></li></ul></li><li><span><a href=\"#IAM\" data-toc-modified-id=\"IAM-2\"><span class=\"toc-item-num\">2&nbsp;&nbsp;</span>IAM</a></span><ul class=\"toc-item\"><li><span><a href=\"#Users,-Groups-and-Policies\" data-toc-modified-id=\"Users,-Groups-and-Policies-2.1\"><span class=\"toc-item-num\">2.1&nbsp;&nbsp;</span>Users, Groups and Policies</a></span></li></ul></li><li><span><a href=\"#Security\" data-toc-modified-id=\"Security-3\"><span class=\"toc-item-num\">3&nbsp;&nbsp;</span>Security</a></span><ul class=\"toc-item\"><li><span><a href=\"#Billing-alerts\" data-toc-modified-id=\"Billing-alerts-3.1\"><span class=\"toc-item-num\">3.1&nbsp;&nbsp;</span>Billing alerts</a></span></li><li><span><a href=\"#Account-Support\" data-toc-modified-id=\"Account-Support-3.2\"><span class=\"toc-item-num\">3.2&nbsp;&nbsp;</span>Account Support</a></span></li></ul></li><li><span><a href=\"#S3\" data-toc-modified-id=\"S3-4\"><span class=\"toc-item-num\">4&nbsp;&nbsp;</span>S3</a></span><ul class=\"toc-item\"><li><span><a href=\"#What-is-S3?\" data-toc-modified-id=\"What-is-S3?-4.1\"><span class=\"toc-item-num\">4.1&nbsp;&nbsp;</span>What is S3?</a></span></li><li><span><a href=\"#S3-Objects\" data-toc-modified-id=\"S3-Objects-4.2\"><span class=\"toc-item-num\">4.2&nbsp;&nbsp;</span>S3 Objects</a></span></li><li><span><a href=\"#Encryption-in-transit\" data-toc-modified-id=\"Encryption-in-transit-4.3\"><span class=\"toc-item-num\">4.3&nbsp;&nbsp;</span>Encryption in transit</a></span></li><li><span><a href=\"#Encryption-at-rest\" data-toc-modified-id=\"Encryption-at-rest-4.4\"><span class=\"toc-item-num\">4.4&nbsp;&nbsp;</span>Encryption at rest</a></span></li><li><span><a href=\"#S3-Storage\" data-toc-modified-id=\"S3-Storage-4.5\"><span class=\"toc-item-num\">4.5&nbsp;&nbsp;</span>S3 Storage</a></span></li><li><span><a href=\"#Cross-Region-Replication\" data-toc-modified-id=\"Cross-Region-Replication-4.6\"><span class=\"toc-item-num\">4.6&nbsp;&nbsp;</span>Cross-Region Replication</a></span></li><li><span><a href=\"#S3-Charges\" data-toc-modified-id=\"S3-Charges-4.7\"><span class=\"toc-item-num\">4.7&nbsp;&nbsp;</span>S3 Charges</a></span></li><li><span><a href=\"#S3-Access\" data-toc-modified-id=\"S3-Access-4.8\"><span class=\"toc-item-num\">4.8&nbsp;&nbsp;</span>S3 Access</a></span></li><li><span><a href=\"#Transfer-Acceleration\" data-toc-modified-id=\"Transfer-Acceleration-4.9\"><span class=\"toc-item-num\">4.9&nbsp;&nbsp;</span>Transfer Acceleration</a></span></li><li><span><a href=\"#Cross-Region-Replication\" data-toc-modified-id=\"Cross-Region-Replication-4.10\"><span class=\"toc-item-num\">4.10&nbsp;&nbsp;</span>Cross Region Replication</a></span></li></ul></li><li><span><a href=\"#CloudFront\" data-toc-modified-id=\"CloudFront-5\"><span class=\"toc-item-num\">5&nbsp;&nbsp;</span>CloudFront</a></span></li><li><span><a href=\"#EC2\" data-toc-modified-id=\"EC2-6\"><span class=\"toc-item-num\">6&nbsp;&nbsp;</span>EC2</a></span><ul class=\"toc-item\"><li><span><a href=\"#What-is-EC2\" data-toc-modified-id=\"What-is-EC2-6.1\"><span class=\"toc-item-num\">6.1&nbsp;&nbsp;</span>What is EC2</a></span></li><li><span><a href=\"#Pricing-Models\" data-toc-modified-id=\"Pricing-Models-6.2\"><span class=\"toc-item-num\">6.2&nbsp;&nbsp;</span>Pricing Models</a></span><ul class=\"toc-item\"><li><span><a href=\"#On-Demand\" data-toc-modified-id=\"On-Demand-6.2.1\"><span class=\"toc-item-num\">6.2.1&nbsp;&nbsp;</span>On Demand</a></span></li><li><span><a href=\"#Reserved\" data-toc-modified-id=\"Reserved-6.2.2\"><span class=\"toc-item-num\">6.2.2&nbsp;&nbsp;</span>Reserved</a></span></li><li><span><a href=\"#Spot\" data-toc-modified-id=\"Spot-6.2.3\"><span class=\"toc-item-num\">6.2.3&nbsp;&nbsp;</span>Spot</a></span></li><li><span><a href=\"#Dedicated-hosts\" data-toc-modified-id=\"Dedicated-hosts-6.2.4\"><span class=\"toc-item-num\">6.2.4&nbsp;&nbsp;</span>Dedicated hosts</a></span></li><li><span><a href=\"#EC2-instance-types\" data-toc-modified-id=\"EC2-instance-types-6.2.5\"><span class=\"toc-item-num\">6.2.5&nbsp;&nbsp;</span>EC2 instance types</a></span></li></ul></li><li><span><a href=\"#EBS---Block-Storage\" data-toc-modified-id=\"EBS---Block-Storage-6.3\"><span class=\"toc-item-num\">6.3&nbsp;&nbsp;</span>EBS - Block Storage</a></span><ul class=\"toc-item\"><li><span><a href=\"#Pricing\" data-toc-modified-id=\"Pricing-6.3.1\"><span class=\"toc-item-num\">6.3.1&nbsp;&nbsp;</span>Pricing</a></span></li><li><span><a href=\"#Snapshots\" data-toc-modified-id=\"Snapshots-6.3.2\"><span class=\"toc-item-num\">6.3.2&nbsp;&nbsp;</span>Snapshots</a></span></li></ul></li><li><span><a href=\"#EBS-and-availability-zones\" data-toc-modified-id=\"EBS-and-availability-zones-6.4\"><span class=\"toc-item-num\">6.4&nbsp;&nbsp;</span>EBS and availability zones</a></span></li><li><span><a href=\"#EFS\" data-toc-modified-id=\"EFS-6.5\"><span class=\"toc-item-num\">6.5&nbsp;&nbsp;</span>EFS</a></span></li><li><span><a href=\"#Firewalls\" data-toc-modified-id=\"Firewalls-6.6\"><span class=\"toc-item-num\">6.6&nbsp;&nbsp;</span>Firewalls</a></span></li><li><span><a href=\"#Placement-Groups\" data-toc-modified-id=\"Placement-Groups-6.7\"><span class=\"toc-item-num\">6.7&nbsp;&nbsp;</span>Placement Groups</a></span><ul class=\"toc-item\"><li><span><a href=\"#Clustered-Placement-Group\" data-toc-modified-id=\"Clustered-Placement-Group-6.7.1\"><span class=\"toc-item-num\">6.7.1&nbsp;&nbsp;</span>Clustered Placement Group</a></span></li><li><span><a href=\"#Spread-Placement-Group\" data-toc-modified-id=\"Spread-Placement-Group-6.7.2\"><span class=\"toc-item-num\">6.7.2&nbsp;&nbsp;</span>Spread Placement Group</a></span></li><li><span><a href=\"#Partitioned-Placement-Group\" data-toc-modified-id=\"Partitioned-Placement-Group-6.7.3\"><span class=\"toc-item-num\">6.7.3&nbsp;&nbsp;</span>Partitioned Placement Group</a></span></li><li><span><a href=\"#Placement-Group-Exam-Tips\" data-toc-modified-id=\"Placement-Group-Exam-Tips-6.7.4\"><span class=\"toc-item-num\">6.7.4&nbsp;&nbsp;</span>Placement Group Exam Tips</a></span></li></ul></li><li><span><a href=\"#Accessing-EC2\" data-toc-modified-id=\"Accessing-EC2-6.8\"><span class=\"toc-item-num\">6.8&nbsp;&nbsp;</span>Accessing EC2</a></span></li><li><span><a href=\"#Roles---top-tips\" data-toc-modified-id=\"Roles---top-tips-6.9\"><span class=\"toc-item-num\">6.9&nbsp;&nbsp;</span>Roles - top tips</a></span><ul class=\"toc-item\"><li><span><a href=\"#AMI\" data-toc-modified-id=\"AMI-6.9.1\"><span class=\"toc-item-num\">6.9.1&nbsp;&nbsp;</span>AMI</a></span></li></ul></li></ul></li><li><span><a href=\"#Elastic-Load-Balancer\" data-toc-modified-id=\"Elastic-Load-Balancer-7\"><span class=\"toc-item-num\">7&nbsp;&nbsp;</span>Elastic Load Balancer</a></span><ul class=\"toc-item\"><li><span><a href=\"#Application-Load-Balancer\" data-toc-modified-id=\"Application-Load-Balancer-7.1\"><span class=\"toc-item-num\">7.1&nbsp;&nbsp;</span>Application Load Balancer</a></span></li><li><span><a href=\"#Network-Load-Balancer\" data-toc-modified-id=\"Network-Load-Balancer-7.2\"><span class=\"toc-item-num\">7.2&nbsp;&nbsp;</span>Network Load Balancer</a></span></li><li><span><a href=\"#Classic-Load-Balancer\" data-toc-modified-id=\"Classic-Load-Balancer-7.3\"><span class=\"toc-item-num\">7.3&nbsp;&nbsp;</span>Classic Load Balancer</a></span></li><li><span><a href=\"#Common-issues\" data-toc-modified-id=\"Common-issues-7.4\"><span class=\"toc-item-num\">7.4&nbsp;&nbsp;</span>Common issues</a></span></li><li><span><a href=\"#X-forwarded-For-header\" data-toc-modified-id=\"X-forwarded-For-header-7.5\"><span class=\"toc-item-num\">7.5&nbsp;&nbsp;</span>X-forwarded-For header</a></span></li><li><span><a href=\"#AWS-FAQs\" data-toc-modified-id=\"AWS-FAQs-7.6\"><span class=\"toc-item-num\">7.6&nbsp;&nbsp;</span>AWS FAQs</a></span></li><li><span><a href=\"#Load-Balancer-Tips\" data-toc-modified-id=\"Load-Balancer-Tips-7.7\"><span class=\"toc-item-num\">7.7&nbsp;&nbsp;</span>Load Balancer Tips</a></span></li><li><span><a href=\"#Advanced-Load-Balancer-Theory\" data-toc-modified-id=\"Advanced-Load-Balancer-Theory-7.8\"><span class=\"toc-item-num\">7.8&nbsp;&nbsp;</span>Advanced Load Balancer Theory</a></span><ul class=\"toc-item\"><li><span><a href=\"#Sticky-sessions\" data-toc-modified-id=\"Sticky-sessions-7.8.1\"><span class=\"toc-item-num\">7.8.1&nbsp;&nbsp;</span>Sticky sessions</a></span></li><li><span><a href=\"#Cross-zone-load-balancing\" data-toc-modified-id=\"Cross-zone-load-balancing-7.8.2\"><span class=\"toc-item-num\">7.8.2&nbsp;&nbsp;</span>Cross-zone load balancing</a></span></li><li><span><a href=\"#Path-based-routing\" data-toc-modified-id=\"Path-based-routing-7.8.3\"><span class=\"toc-item-num\">7.8.3&nbsp;&nbsp;</span>Path-based routing</a></span></li></ul></li><li><span><a href=\"#The-highly-available-architecture\" data-toc-modified-id=\"The-highly-available-architecture-7.9\"><span class=\"toc-item-num\">7.9&nbsp;&nbsp;</span>The highly available architecture</a></span><ul class=\"toc-item\"><li><span><a href=\"#Reliability\" data-toc-modified-id=\"Reliability-7.9.1\"><span class=\"toc-item-num\">7.9.1&nbsp;&nbsp;</span>Reliability</a></span></li><li><span><a href=\"#Availability\" data-toc-modified-id=\"Availability-7.9.2\"><span class=\"toc-item-num\">7.9.2&nbsp;&nbsp;</span>Availability</a></span></li><li><span><a href=\"#Resiliency\" data-toc-modified-id=\"Resiliency-7.9.3\"><span class=\"toc-item-num\">7.9.3&nbsp;&nbsp;</span>Resiliency</a></span></li><li><span><a href=\"#Fault-tolerance\" data-toc-modified-id=\"Fault-tolerance-7.9.4\"><span class=\"toc-item-num\">7.9.4&nbsp;&nbsp;</span>Fault-tolerance</a></span></li></ul></li></ul></li><li><span><a href=\"#AWS-Lambda\" data-toc-modified-id=\"AWS-Lambda-8\"><span class=\"toc-item-num\">8&nbsp;&nbsp;</span>AWS Lambda</a></span><ul class=\"toc-item\"><li><span><a href=\"#Lambda-Pricing\" data-toc-modified-id=\"Lambda-Pricing-8.1\"><span class=\"toc-item-num\">8.1&nbsp;&nbsp;</span>Lambda Pricing</a></span><ul class=\"toc-item\"><li><span><a href=\"#Request-Pricing\" data-toc-modified-id=\"Request-Pricing-8.1.1\"><span class=\"toc-item-num\">8.1.1&nbsp;&nbsp;</span>Request Pricing</a></span></li><li><span><a href=\"#Duration-Pricing\" data-toc-modified-id=\"Duration-Pricing-8.1.2\"><span class=\"toc-item-num\">8.1.2&nbsp;&nbsp;</span>Duration Pricing</a></span></li></ul></li></ul></li><li><span><a href=\"#VPC\" data-toc-modified-id=\"VPC-9\"><span class=\"toc-item-num\">9&nbsp;&nbsp;</span>VPC</a></span><ul class=\"toc-item\"><li><span><a href=\"#Route-Tables\" data-toc-modified-id=\"Route-Tables-9.1\"><span class=\"toc-item-num\">9.1&nbsp;&nbsp;</span>Route Tables</a></span></li><li><span><a href=\"#How-Route-tables-work\" data-toc-modified-id=\"How-Route-tables-work-9.2\"><span class=\"toc-item-num\">9.2&nbsp;&nbsp;</span>How Route tables work</a></span></li><li><span><a href=\"#Reserved-IP-addresses-in-each-CIDR-block\" data-toc-modified-id=\"Reserved-IP-addresses-in-each-CIDR-block-9.3\"><span class=\"toc-item-num\">9.3&nbsp;&nbsp;</span>Reserved IP addresses in each CIDR block</a></span></li><li><span><a href=\"#Connecting-between-Private-/-Public-Subnets\" data-toc-modified-id=\"Connecting-between-Private-/-Public-Subnets-9.4\"><span class=\"toc-item-num\">9.4&nbsp;&nbsp;</span>Connecting between Private / Public Subnets</a></span></li><li><span><a href=\"#NAT-(Network-Address-Translation)---NAT-Instances-&amp;-NAT-Gateways\" data-toc-modified-id=\"NAT-(Network-Address-Translation)---NAT-Instances-&amp;-NAT-Gateways-9.5\"><span class=\"toc-item-num\">9.5&nbsp;&nbsp;</span>NAT (Network Address Translation) - NAT Instances &amp; NAT Gateways</a></span><ul class=\"toc-item\"><li><span><a href=\"#NAT-tips\" data-toc-modified-id=\"NAT-tips-9.5.1\"><span class=\"toc-item-num\">9.5.1&nbsp;&nbsp;</span>NAT tips</a></span></li></ul></li><li><span><a href=\"#NACLs\" data-toc-modified-id=\"NACLs-9.6\"><span class=\"toc-item-num\">9.6&nbsp;&nbsp;</span>NACLs</a></span><ul class=\"toc-item\"><li><span><a href=\"#Rule-Priorities\" data-toc-modified-id=\"Rule-Priorities-9.6.1\"><span class=\"toc-item-num\">9.6.1&nbsp;&nbsp;</span>Rule Priorities</a></span></li><li><span><a href=\"#NACL-tips\" data-toc-modified-id=\"NACL-tips-9.6.2\"><span class=\"toc-item-num\">9.6.2&nbsp;&nbsp;</span>NACL tips</a></span></li><li><span><a href=\"#VPC-Flow-Logs\" data-toc-modified-id=\"VPC-Flow-Logs-9.6.3\"><span class=\"toc-item-num\">9.6.3&nbsp;&nbsp;</span>VPC Flow Logs</a></span></li></ul></li><li><span><a href=\"#Bastion-Hosts\" data-toc-modified-id=\"Bastion-Hosts-9.7\"><span class=\"toc-item-num\">9.7&nbsp;&nbsp;</span>Bastion Hosts</a></span></li><li><span><a href=\"#Direct-Connect\" data-toc-modified-id=\"Direct-Connect-9.8\"><span class=\"toc-item-num\">9.8&nbsp;&nbsp;</span>Direct Connect</a></span></li></ul></li><li><span><a href=\"#VPC-Endpoints\" data-toc-modified-id=\"VPC-Endpoints-10\"><span class=\"toc-item-num\">10&nbsp;&nbsp;</span>VPC Endpoints</a></span></li><li><span><a href=\"#Databases\" data-toc-modified-id=\"Databases-11\"><span class=\"toc-item-num\">11&nbsp;&nbsp;</span>Databases</a></span><ul class=\"toc-item\"><li><span><a href=\"#Relational-Database---RDS\" data-toc-modified-id=\"Relational-Database---RDS-11.1\"><span class=\"toc-item-num\">11.1&nbsp;&nbsp;</span>Relational Database - RDS</a></span><ul class=\"toc-item\"><li><span><a href=\"#Relational-Databases-on-AWS\" data-toc-modified-id=\"Relational-Databases-on-AWS-11.1.1\"><span class=\"toc-item-num\">11.1.1&nbsp;&nbsp;</span>Relational Databases on AWS</a></span></li><li><span><a href=\"#Multi-AZ\" data-toc-modified-id=\"Multi-AZ-11.1.2\"><span class=\"toc-item-num\">11.1.2&nbsp;&nbsp;</span>Multi-AZ</a></span></li><li><span><a href=\"#Read-replicas\" data-toc-modified-id=\"Read-replicas-11.1.3\"><span class=\"toc-item-num\">11.1.3&nbsp;&nbsp;</span>Read replicas</a></span></li><li><span><a href=\"#Automated-Backups\" data-toc-modified-id=\"Automated-Backups-11.1.4\"><span class=\"toc-item-num\">11.1.4&nbsp;&nbsp;</span>Automated Backups</a></span></li><li><span><a href=\"#Database-snapshots\" data-toc-modified-id=\"Database-snapshots-11.1.5\"><span class=\"toc-item-num\">11.1.5&nbsp;&nbsp;</span>Database snapshots</a></span></li><li><span><a href=\"#Encryption-at-Rest\" data-toc-modified-id=\"Encryption-at-Rest-11.1.6\"><span class=\"toc-item-num\">11.1.6&nbsp;&nbsp;</span>Encryption at Rest</a></span></li><li><span><a href=\"#Pricing\" data-toc-modified-id=\"Pricing-11.1.7\"><span class=\"toc-item-num\">11.1.7&nbsp;&nbsp;</span>Pricing</a></span></li></ul></li><li><span><a href=\"#AWS-Relational-Database---Aurora\" data-toc-modified-id=\"AWS-Relational-Database---Aurora-11.2\"><span class=\"toc-item-num\">11.2&nbsp;&nbsp;</span>AWS Relational Database - Aurora</a></span></li><li><span><a href=\"#AWS-Non-relational-Database---DynamoDB\" data-toc-modified-id=\"AWS-Non-relational-Database---DynamoDB-11.3\"><span class=\"toc-item-num\">11.3&nbsp;&nbsp;</span>AWS Non-relational Database - DynamoDB</a></span></li><li><span><a href=\"#Data-Warehousing---Amazon-Reshift\" data-toc-modified-id=\"Data-Warehousing---Amazon-Reshift-11.4\"><span class=\"toc-item-num\">11.4&nbsp;&nbsp;</span>Data Warehousing - Amazon Reshift</a></span><ul class=\"toc-item\"><li><span><a href=\"#Pricing\" data-toc-modified-id=\"Pricing-11.4.1\"><span class=\"toc-item-num\">11.4.1&nbsp;&nbsp;</span>Pricing</a></span></li></ul></li><li><span><a href=\"#Redshift\" data-toc-modified-id=\"Redshift-11.5\"><span class=\"toc-item-num\">11.5&nbsp;&nbsp;</span>Redshift</a></span></li><li><span><a href=\"#Elasticache\" data-toc-modified-id=\"Elasticache-11.6\"><span class=\"toc-item-num\">11.6&nbsp;&nbsp;</span>Elasticache</a></span></li><li><span><a href=\"#AWS-Search-functions\" data-toc-modified-id=\"AWS-Search-functions-11.7\"><span class=\"toc-item-num\">11.7&nbsp;&nbsp;</span>AWS Search functions</a></span></li><li><span><a href=\"#Graph-Databases\" data-toc-modified-id=\"Graph-Databases-11.8\"><span class=\"toc-item-num\">11.8&nbsp;&nbsp;</span>Graph Databases</a></span></li></ul></li><li><span><a href=\"#Domain-Name-System-(DNS)---Route-53\" data-toc-modified-id=\"Domain-Name-System-(DNS)---Route-53-12\"><span class=\"toc-item-num\">12&nbsp;&nbsp;</span>Domain Name System (DNS) - Route 53</a></span><ul class=\"toc-item\"><li><span><a href=\"#What-is-DNS?\" data-toc-modified-id=\"What-is-DNS?-12.1\"><span class=\"toc-item-num\">12.1&nbsp;&nbsp;</span>What is DNS?</a></span><ul class=\"toc-item\"><li><span><a href=\"#IPV4\" data-toc-modified-id=\"IPV4-12.1.1\"><span class=\"toc-item-num\">12.1.1&nbsp;&nbsp;</span>IPV4</a></span></li><li><span><a href=\"#IPV6\" data-toc-modified-id=\"IPV6-12.1.2\"><span class=\"toc-item-num\">12.1.2&nbsp;&nbsp;</span>IPV6</a></span></li><li><span><a href=\"#Top-Level-Domains\" data-toc-modified-id=\"Top-Level-Domains-12.1.3\"><span class=\"toc-item-num\">12.1.3&nbsp;&nbsp;</span>Top Level Domains</a></span></li><li><span><a href=\"#Second-level-domains\" data-toc-modified-id=\"Second-level-domains-12.1.4\"><span class=\"toc-item-num\">12.1.4&nbsp;&nbsp;</span>Second level domains</a></span></li><li><span><a href=\"#Start-of-Authority\" data-toc-modified-id=\"Start-of-Authority-12.1.5\"><span class=\"toc-item-num\">12.1.5&nbsp;&nbsp;</span>Start of Authority</a></span></li><li><span><a href=\"#Querying-a-webpage\" data-toc-modified-id=\"Querying-a-webpage-12.1.6\"><span class=\"toc-item-num\">12.1.6&nbsp;&nbsp;</span>Querying a webpage</a></span></li></ul></li></ul></li><li><span><a href=\"#Route-53\" data-toc-modified-id=\"Route-53-13\"><span class=\"toc-item-num\">13&nbsp;&nbsp;</span>Route 53</a></span><ul class=\"toc-item\"><li><span><a href=\"#Health-checks\" data-toc-modified-id=\"Health-checks-13.1\"><span class=\"toc-item-num\">13.1&nbsp;&nbsp;</span>Health checks</a></span></li></ul></li><li><span><a href=\"#Elastic-Beanstalk\" data-toc-modified-id=\"Elastic-Beanstalk-14\"><span class=\"toc-item-num\">14&nbsp;&nbsp;</span>Elastic Beanstalk</a></span></li><li><span><a href=\"#Cloud-Formation\" data-toc-modified-id=\"Cloud-Formation-15\"><span class=\"toc-item-num\">15&nbsp;&nbsp;</span>Cloud Formation</a></span><ul class=\"toc-item\"><li><span><a href=\"#Cloud-Formation-vs-Elastic-Beanstalk\" data-toc-modified-id=\"Cloud-Formation-vs-Elastic-Beanstalk-15.1\"><span class=\"toc-item-num\">15.1&nbsp;&nbsp;</span>Cloud Formation vs Elastic Beanstalk</a></span></li><li><span><a href=\"#Cloud-Formation-Templates\" data-toc-modified-id=\"Cloud-Formation-Templates-15.2\"><span class=\"toc-item-num\">15.2&nbsp;&nbsp;</span>Cloud Formation Templates</a></span></li></ul></li><li><span><a href=\"#Global-vs-regional-services\" data-toc-modified-id=\"Global-vs-regional-services-16\"><span class=\"toc-item-num\">16&nbsp;&nbsp;</span>Global vs regional services</a></span></li><li><span><a href=\"#Which-services-can-be-used-on-premise?\" data-toc-modified-id=\"Which-services-can-be-used-on-premise?-17\"><span class=\"toc-item-num\">17&nbsp;&nbsp;</span>Which services can be used on premise?</a></span><ul class=\"toc-item\"><li><span><a href=\"#Deploying-applications-on-premise\" data-toc-modified-id=\"Deploying-applications-on-premise-17.1\"><span class=\"toc-item-num\">17.1&nbsp;&nbsp;</span>Deploying applications on premise</a></span></li></ul></li><li><span><a href=\"#Cloudwatch\" data-toc-modified-id=\"Cloudwatch-18\"><span class=\"toc-item-num\">18&nbsp;&nbsp;</span>Cloudwatch</a></span><ul class=\"toc-item\"><li><span><a href=\"#Cloud-Trail\" data-toc-modified-id=\"Cloud-Trail-18.1\"><span class=\"toc-item-num\">18.1&nbsp;&nbsp;</span>Cloud Trail</a></span></li></ul></li><li><span><a href=\"#AWS-Systems-Manager\" data-toc-modified-id=\"AWS-Systems-Manager-19\"><span class=\"toc-item-num\">19&nbsp;&nbsp;</span>AWS Systems Manager</a></span><ul class=\"toc-item\"><li><span><a href=\"#Security-Best-Practices\" data-toc-modified-id=\"Security-Best-Practices-19.1\"><span class=\"toc-item-num\">19.1&nbsp;&nbsp;</span>Security Best Practices</a></span></li><li><span><a href=\"#Secure-the-root-account!\" data-toc-modified-id=\"Secure-the-root-account!-19.2\"><span class=\"toc-item-num\">19.2&nbsp;&nbsp;</span>Secure the root account!</a></span></li><li><span><a href=\"#Create-individual-IAM-roles\" data-toc-modified-id=\"Create-individual-IAM-roles-19.3\"><span class=\"toc-item-num\">19.3&nbsp;&nbsp;</span>Create individual IAM roles</a></span></li><li><span><a href=\"#Use-groups-to-assign-permissions\" data-toc-modified-id=\"Use-groups-to-assign-permissions-19.4\"><span class=\"toc-item-num\">19.4&nbsp;&nbsp;</span>Use groups to assign permissions</a></span></li><li><span><a href=\"#Grant-least-privilege\" data-toc-modified-id=\"Grant-least-privilege-19.5\"><span class=\"toc-item-num\">19.5&nbsp;&nbsp;</span>Grant least privilege</a></span></li><li><span><a href=\"#Use-policy-conditions-for-extra-security\" data-toc-modified-id=\"Use-policy-conditions-for-extra-security-19.6\"><span class=\"toc-item-num\">19.6&nbsp;&nbsp;</span>Use policy conditions for extra security</a></span></li><li><span><a href=\"#Monitor-activity\" data-toc-modified-id=\"Monitor-activity-19.7\"><span class=\"toc-item-num\">19.7&nbsp;&nbsp;</span>Monitor activity</a></span></li></ul></li><li><span><a href=\"#Lightsail\" data-toc-modified-id=\"Lightsail-20\"><span class=\"toc-item-num\">20&nbsp;&nbsp;</span>Lightsail</a></span></li><li><span><a href=\"#AWS-Snowball\" data-toc-modified-id=\"AWS-Snowball-21\"><span class=\"toc-item-num\">21&nbsp;&nbsp;</span>AWS Snowball</a></span><ul class=\"toc-item\"><li><span><a href=\"#Pricing\" data-toc-modified-id=\"Pricing-21.1\"><span class=\"toc-item-num\">21.1&nbsp;&nbsp;</span>Pricing</a></span></li></ul></li><li><span><a href=\"#Tagging\" data-toc-modified-id=\"Tagging-22\"><span class=\"toc-item-num\">22&nbsp;&nbsp;</span>Tagging</a></span></li><li><span><a href=\"#FREE-SERVICES\" data-toc-modified-id=\"FREE-SERVICES-23\"><span class=\"toc-item-num\">23&nbsp;&nbsp;</span>FREE SERVICES</a></span></li><li><span><a href=\"#AWS-Account-Manager\" data-toc-modified-id=\"AWS-Account-Manager-24\"><span class=\"toc-item-num\">24&nbsp;&nbsp;</span>AWS Account Manager</a></span><ul class=\"toc-item\"><li><span><a href=\"#Consolidated-Billing\" data-toc-modified-id=\"Consolidated-Billing-24.1\"><span class=\"toc-item-num\">24.1&nbsp;&nbsp;</span>Consolidated Billing</a></span></li><li><span><a href=\"#Using-CloudTrail-across-all-acounts\" data-toc-modified-id=\"Using-CloudTrail-across-all-acounts-24.2\"><span class=\"toc-item-num\">24.2&nbsp;&nbsp;</span>Using CloudTrail across all acounts</a></span></li></ul></li><li><span><a href=\"#AWS-Config\" data-toc-modified-id=\"AWS-Config-25\"><span class=\"toc-item-num\">25&nbsp;&nbsp;</span>AWS Config</a></span></li><li><span><a href=\"#AWS-Quick-Start\" data-toc-modified-id=\"AWS-Quick-Start-26\"><span class=\"toc-item-num\">26&nbsp;&nbsp;</span>AWS Quick Start</a></span></li><li><span><a href=\"#AWS-Landing-Zone\" data-toc-modified-id=\"AWS-Landing-Zone-27\"><span class=\"toc-item-num\">27&nbsp;&nbsp;</span>AWS Landing Zone</a></span></li><li><span><a href=\"#AWS-Cost-Calculator\" data-toc-modified-id=\"AWS-Cost-Calculator-28\"><span class=\"toc-item-num\">28&nbsp;&nbsp;</span>AWS Cost Calculator</a></span></li><li><span><a href=\"#AWS-Compliance\" data-toc-modified-id=\"AWS-Compliance-29\"><span class=\"toc-item-num\">29&nbsp;&nbsp;</span>AWS Compliance</a></span></li><li><span><a href=\"#Storage-Gateway\" data-toc-modified-id=\"Storage-Gateway-30\"><span class=\"toc-item-num\">30&nbsp;&nbsp;</span>Storage Gateway</a></span><ul class=\"toc-item\"><li><span><a href=\"#File-Gateway\" data-toc-modified-id=\"File-Gateway-30.1\"><span class=\"toc-item-num\">30.1&nbsp;&nbsp;</span>File Gateway</a></span></li><li><span><a href=\"#Tape-Library\" data-toc-modified-id=\"Tape-Library-30.2\"><span class=\"toc-item-num\">30.2&nbsp;&nbsp;</span>Tape Library</a></span></li><li><span><a href=\"#Volume-Gateway\" data-toc-modified-id=\"Volume-Gateway-30.3\"><span class=\"toc-item-num\">30.3&nbsp;&nbsp;</span>Volume Gateway</a></span></li></ul></li><li><span><a href=\"#Security-Groups\" data-toc-modified-id=\"Security-Groups-31\"><span class=\"toc-item-num\">31&nbsp;&nbsp;</span>Security Groups</a></span></li><li><span><a href=\"#CIDR-host-addresses\" data-toc-modified-id=\"CIDR-host-addresses-32\"><span class=\"toc-item-num\">32&nbsp;&nbsp;</span>CIDR host addresses</a></span></li><li><span><a href=\"#VPC-Peering\" data-toc-modified-id=\"VPC-Peering-33\"><span class=\"toc-item-num\">33&nbsp;&nbsp;</span>VPC Peering</a></span></li><li><span><a href=\"#Elastic-IP-addresses\" data-toc-modified-id=\"Elastic-IP-addresses-34\"><span class=\"toc-item-num\">34&nbsp;&nbsp;</span>Elastic IP addresses</a></span></li><li><span><a href=\"#NAT-gateway\" data-toc-modified-id=\"NAT-gateway-35\"><span class=\"toc-item-num\">35&nbsp;&nbsp;</span>NAT gateway</a></span></li><li><span><a href=\"#SQS\" data-toc-modified-id=\"SQS-36\"><span class=\"toc-item-num\">36&nbsp;&nbsp;</span>SQS</a></span><ul class=\"toc-item\"><li><span><a href=\"#Default\" data-toc-modified-id=\"Default-36.1\"><span class=\"toc-item-num\">36.1&nbsp;&nbsp;</span>Default</a></span></li><li><span><a href=\"#FIFO\" data-toc-modified-id=\"FIFO-36.2\"><span class=\"toc-item-num\">36.2&nbsp;&nbsp;</span>FIFO</a></span></li><li><span><a href=\"#NOTEWORTHY\" data-toc-modified-id=\"NOTEWORTHY-36.3\"><span class=\"toc-item-num\">36.3&nbsp;&nbsp;</span>NOTEWORTHY</a></span></li></ul></li><li><span><a href=\"#SWF---Simple-Workflow-Service\" data-toc-modified-id=\"SWF---Simple-Workflow-Service-37\"><span class=\"toc-item-num\">37&nbsp;&nbsp;</span>SWF - Simple Workflow Service</a></span><ul class=\"toc-item\"><li><span><a href=\"#NOTEWORTHY\" data-toc-modified-id=\"NOTEWORTHY-37.1\"><span class=\"toc-item-num\">37.1&nbsp;&nbsp;</span>NOTEWORTHY</a></span></li><li><span><a href=\"#SWF-Actors\" data-toc-modified-id=\"SWF-Actors-37.2\"><span class=\"toc-item-num\">37.2&nbsp;&nbsp;</span>SWF Actors</a></span></li></ul></li><li><span><a href=\"#SNS---Simple-Notification-Service\" data-toc-modified-id=\"SNS---Simple-Notification-Service-38\"><span class=\"toc-item-num\">38&nbsp;&nbsp;</span>SNS - Simple Notification Service</a></span></li><li><span><a href=\"#SNS-vs-SQS\" data-toc-modified-id=\"SNS-vs-SQS-39\"><span class=\"toc-item-num\">39&nbsp;&nbsp;</span>SNS vs SQS</a></span></li><li><span><a href=\"#Elastic-Transcoder\" data-toc-modified-id=\"Elastic-Transcoder-40\"><span class=\"toc-item-num\">40&nbsp;&nbsp;</span>Elastic Transcoder</a></span></li><li><span><a href=\"#API-Gateway\" data-toc-modified-id=\"API-Gateway-41\"><span class=\"toc-item-num\">41&nbsp;&nbsp;</span>API Gateway</a></span><ul class=\"toc-item\"><li><span><a href=\"#API-gateway-certificates?\" data-toc-modified-id=\"API-gateway-certificates?-41.1\"><span class=\"toc-item-num\">41.1&nbsp;&nbsp;</span>API gateway certificates?</a></span></li><li><span><a href=\"#API-caching\" data-toc-modified-id=\"API-caching-41.2\"><span class=\"toc-item-num\">41.2&nbsp;&nbsp;</span>API caching</a></span></li></ul></li><li><span><a href=\"#Same-Origin-Policy\" data-toc-modified-id=\"Same-Origin-Policy-42\"><span class=\"toc-item-num\">42&nbsp;&nbsp;</span>Same Origin Policy</a></span></li><li><span><a href=\"#CORS\" data-toc-modified-id=\"CORS-43\"><span class=\"toc-item-num\">43&nbsp;&nbsp;</span>CORS</a></span></li><li><span><a href=\"#Kinesis\" data-toc-modified-id=\"Kinesis-44\"><span class=\"toc-item-num\">44&nbsp;&nbsp;</span>Kinesis</a></span><ul class=\"toc-item\"><li><span><a href=\"#Kinesis-Streams\" data-toc-modified-id=\"Kinesis-Streams-44.1\"><span class=\"toc-item-num\">44.1&nbsp;&nbsp;</span>Kinesis Streams</a></span><ul class=\"toc-item\"><li><span><a href=\"#Shards\" data-toc-modified-id=\"Shards-44.1.1\"><span class=\"toc-item-num\">44.1.1&nbsp;&nbsp;</span>Shards</a></span></li></ul></li><li><span><a href=\"#Kinesis-Firehose\" data-toc-modified-id=\"Kinesis-Firehose-44.2\"><span class=\"toc-item-num\">44.2&nbsp;&nbsp;</span>Kinesis Firehose</a></span></li><li><span><a href=\"#Kinesis-Analytics\" data-toc-modified-id=\"Kinesis-Analytics-44.3\"><span class=\"toc-item-num\">44.3&nbsp;&nbsp;</span>Kinesis Analytics</a></span></li></ul></li><li><span><a href=\"#Cognito-(Web-Identity-Federation)\" data-toc-modified-id=\"Cognito-(Web-Identity-Federation)-45\"><span class=\"toc-item-num\">45&nbsp;&nbsp;</span>Cognito (Web Identity Federation)</a></span><ul class=\"toc-item\"><li><span><a href=\"#User-Pools\" data-toc-modified-id=\"User-Pools-45.1\"><span class=\"toc-item-num\">45.1&nbsp;&nbsp;</span>User Pools</a></span></li><li><span><a href=\"#Identity-Pools\" data-toc-modified-id=\"Identity-Pools-45.2\"><span class=\"toc-item-num\">45.2&nbsp;&nbsp;</span>Identity Pools</a></span></li><li><span><a href=\"#Example-workflow\" data-toc-modified-id=\"Example-workflow-45.3\"><span class=\"toc-item-num\">45.3&nbsp;&nbsp;</span>Example workflow</a></span></li><li><span><a href=\"#Device-management\" data-toc-modified-id=\"Device-management-45.4\"><span class=\"toc-item-num\">45.4&nbsp;&nbsp;</span>Device management</a></span></li></ul></li><li><span><a href=\"#AWS-Lambda\" data-toc-modified-id=\"AWS-Lambda-46\"><span class=\"toc-item-num\">46&nbsp;&nbsp;</span>AWS Lambda</a></span><ul class=\"toc-item\"><li><span><a href=\"#Lambda-pricing\" data-toc-modified-id=\"Lambda-pricing-46.1\"><span class=\"toc-item-num\">46.1&nbsp;&nbsp;</span>Lambda pricing</a></span></li></ul></li><li><span><a href=\"#AWS-WAF\" data-toc-modified-id=\"AWS-WAF-47\"><span class=\"toc-item-num\">47&nbsp;&nbsp;</span>AWS WAF</a></span></li><li><span><a href=\"#AWS-Shield\" data-toc-modified-id=\"AWS-Shield-48\"><span class=\"toc-item-num\">48&nbsp;&nbsp;</span>AWS Shield</a></span><ul class=\"toc-item\"><li><ul class=\"toc-item\"><li><span><a href=\"#INFO\" data-toc-modified-id=\"INFO-48.0.1\"><span class=\"toc-item-num\">48.0.1&nbsp;&nbsp;</span>INFO</a></span></li></ul></li></ul></li><li><span><a href=\"#Application-Backup\" data-toc-modified-id=\"Application-Backup-49\"><span class=\"toc-item-num\">49&nbsp;&nbsp;</span>Application Backup</a></span></li><li><span><a href=\"#Exam-Prep\" data-toc-modified-id=\"Exam-Prep-50\"><span class=\"toc-item-num\">50&nbsp;&nbsp;</span>Exam Prep</a></span></li></ul></div>"
   ]
  },
  {
   "cell_type": "markdown",
   "metadata": {},
   "source": [
    "# Cloud Practitioner Notes"
   ]
  },
  {
   "cell_type": "markdown",
   "metadata": {},
   "source": [
    "## Intro to AWS"
   ]
  },
  {
   "cell_type": "markdown",
   "metadata": {},
   "source": [
    "### Advantages of the cloud\n",
    "\n",
    "* Trade capital expense for variable expense\n",
    "* Benefit from massive economies of scale\n",
    "* Stop guessing about capacity\n",
    "* Increase speed and agility \n",
    "* Stop spending money running and maintaining servers\n",
    "* Go global in minutes"
   ]
  },
  {
   "cell_type": "markdown",
   "metadata": {},
   "source": [
    "### Types of Cloud Computing\n",
    "\n",
    "<img src=\"images/saas-vs-paas-vs-iaas.jpg\" width=\"600\">\n",
    "\n",
    "**IAAS**: Infrastructure as a service (e.g. AWS, GCP)\n",
    "\n",
    "**PAAS**: Platform as a service (e.g. GoDaddy website serving)\n",
    "\n",
    "**SAAS**: Software as a service (e.g. Dropbox, Slack)"
   ]
  },
  {
   "cell_type": "markdown",
   "metadata": {},
   "source": [
    "### Regions / Availability Zones\n",
    "\n",
    "<img src=\"images/regions_availability_zones.png\" width=\"600\">\n",
    "\n",
    "**Region**: An AWS Region is a separate geographic area.\n",
    "\n",
    "**Availability Zone**: An Availability Zone is a 'data centre' (or group of very nearby data centres).  Typically a region is composed of many availability zones.\n",
    "\n",
    "**Edge Location**: An edge location is an endpoint for AWS which is used for caching content.  Once the content has been downloaded once at the endpoint it will remain there for quicker access in future.  (Often using CloudFront, Amazon's Content Delivery Network)."
   ]
  },
  {
   "cell_type": "markdown",
   "metadata": {},
   "source": [
    "## IAM"
   ]
  },
  {
   "cell_type": "markdown",
   "metadata": {},
   "source": [
    "### Users, Groups and Policies\n",
    "\n",
    "**Users**: An IAM user is an entity that you create in AWS. The IAM user represents the person or service who uses the IAM user to interact with AWS.  You should create individual users for all people in your organisation.\n",
    "\n",
    "**Groups**: An IAM group is a collection of IAM users. You can use groups to specify permissions for a collection of users, which can make those permissions easier to manage for those users. For example, you could have a group called Admins and give that group the types of permissions that administrators typically need.\n",
    "\n",
    "**Policies**: A policy is an object in AWS that, when associated with an identity or resource, defines their permissions.\n",
    "\n",
    "**Roles**: An IAM role is very similar to a user, in that it is an identity with permission policies that determine what the identity can and cannot do in AWS. However, a role does not have any credentials (password or access keys) associated with it. Instead of being uniquely associated with one person, a role is intended to be assumable by anyone who needs it."
   ]
  },
  {
   "cell_type": "markdown",
   "metadata": {},
   "source": [
    "It is BEST PRACTISE to delete a role that has not been used in a long time.  Just make sure to check that no EC2 instances are attached to this role before removing it.\n",
    "\n",
    "**NOTE**: IAM is Universal, it does not apply to regions"
   ]
  },
  {
   "cell_type": "markdown",
   "metadata": {},
   "source": [
    "## Security\n"
   ]
  },
  {
   "cell_type": "markdown",
   "metadata": {},
   "source": [
    "Simple pieces of security advice.\n",
    "\n",
    "* Make sure to enable MFA on root account\n",
    "* Try not to use root account\n",
    "* Never share credentials (access/secret access key)\n",
    "* Make sure to grant people least privileges \n"
   ]
  },
  {
   "cell_type": "markdown",
   "metadata": {},
   "source": [
    "### Billing alerts\n",
    "\n",
    "You can set up billing alerts using SNS to notify you when your charges exceed a certain threshold.  Access this through **My Billing Dashboard** in the account dropdown and then **Billing Preferences**.  You can configure this in greater detail by going to **CloudWatch** and clicking on **Billing**.\n"
   ]
  },
  {
   "cell_type": "markdown",
   "metadata": {},
   "source": [
    "### Account Support\n",
    "\n",
    "<img src=\"images/bdbe.jpg\" width=\"600\">\n",
    "\n",
    "**Basic**:  AWS's free account with access to the AWS Community Forums and account/billing support.\n",
    "\n",
    "**Developer**: One primary account holder has access to the Support Centre from $29/month and can expect a response within 12-24 hours.  Price is scalable dependent on usage.\n",
    "\n",
    "**Business**: $100/month from 24/7 support by phone and chat.  1-hour response for urgent support cases and help with common third party software.  Full access to AWS Trusted Advisor.   Access to the AWS Support API. Price is scalable dependent on usage.\n",
    "\n",
    "**Enterprise**: $15,000/month.  All the features of business but with an assigned Technical Account Manager (TAM).  Support Concierge who provies billing and account analysis.  Access to Event Infrastructure Management to support product launches. 15-minute response time."
   ]
  },
  {
   "cell_type": "markdown",
   "metadata": {},
   "source": [
    "## S3"
   ]
  },
  {
   "cell_type": "markdown",
   "metadata": {},
   "source": [
    "### What is S3?\n",
    "\n",
    "S3 stands for **Simple Storage Server**.  AWS say that it `\"provides users with secure, durable and highly scalable object storage.\"`  Think of it as a big folder in the cloud.\n",
    "\n",
    "**Fundamentals:**\n",
    "\n",
    "* S3 is object based storage.  Each file is an object.  \n",
    "* Files can be from 0Bytes to 5TeraBytes.\n",
    "* There is unlimited storage.\n",
    "* Files are stored in buckets.\n",
    "* S3 scales automatically to meet demands (e.g. you can host a static website and availability will scale with demand)\n",
    "\n",
    "**Details**:\n",
    "\n",
    "* S3 is a universal namespace, meaning that your bucket name HAS to be unique. e.g. 'test-bucket' is not available as it has already been taken.\n",
    "* An S3 bucket typically takes the format: https://s3-eu-west-1.amazonaws.com/my-bucket-name-here\n",
    "* You receive a **HTTP 200** code when a file has been successfully uploaded to S3."
   ]
  },
  {
   "cell_type": "markdown",
   "metadata": {},
   "source": [
    "### S3 Objects\n",
    "\n",
    "Think of objects as 'files'.  Each object consists of:\n",
    "\n",
    "* Key (name of the object)\n",
    "* Value (the content/data of the object)\n",
    "* Version ID (used for versioning your files)\n",
    "* Metadata (about the object being stored)\n",
    "* Subresources (there are extra resources available such as Access Control Lists)\n",
    "\n",
    "\n",
    "|Concept|Explanation|Example|\n",
    "|-----|-----|-----|\n",
    "|'Read after write consistency' for PUTS of new objects|An object must be readable as soon as it is uploaded|If you write a file to s3, someone else can instantly access it|\n",
    "|'Eventual consistency' for overwrite PUTS and DELETES|An object will eventually be consistent if it is overwritten or deleted|If you overwrite a file in s3, someone who immediately accesses this file might accidentally access the old version.  Also, if you delete a file, it may be accessible for a short period of time.|\n",
    "\n",
    "* Built for 99.99% availability\n",
    "* Amazon guarantees 99.9% availability\n",
    "* Amazon guarantees 99.999999999% durability for s3 information (i.e. very small of data lost)\n",
    "\n",
    "S3 features:\n",
    "\n",
    "* Tiered Storage Available - TEXT\n",
    "* Lifecycle management - Automates moving stored objects between different storage tiers.  Can be used in conjunction with versioning.  Can be applied to current versions and previous versions.\n",
    "* Versioning - Keeps track of file changes to allow you to revert to a previous version of the file.\n",
    "* Encryption\n",
    "* Access Control Lists and Bucket Policies - Amazon S3 access control lists (ACLs) enable you to manage access to buckets and objects. Each bucket and object has an ACL attached to it as a subresource. An ACL defines which AWS accounts or groups are granted access and the type of access (however AWS prefers that you use bucket policies and IAM roles).\n"
   ]
  },
  {
   "cell_type": "markdown",
   "metadata": {},
   "source": [
    "\n",
    "### Encryption in transit"
   ]
  },
  {
   "cell_type": "markdown",
   "metadata": {},
   "source": [
    "Achieved by SSL (https)  and TLS"
   ]
  },
  {
   "cell_type": "markdown",
   "metadata": {},
   "source": [
    "### Encryption at rest"
   ]
  },
  {
   "cell_type": "markdown",
   "metadata": {},
   "source": [
    "* **SSE-S3** - AWS managed keys\n",
    "* **KMS Key Management Service** - Managed by user\n",
    "* **SSE-C** Server side encrpytion with customer provided keys"
   ]
  },
  {
   "cell_type": "markdown",
   "metadata": {},
   "source": [
    "### S3 Storage\n",
    "\n",
    "S3 storage types:\n",
    "* **S3 standard** - S3 Standard offers high durability, availability, and performance object storage for frequently accessed data. Because it delivers low latency and high throughput, S3 Standard is appropriate for a wide variety of use cases.\n",
    "* **S3 IA** - S3 Standard-IA is for data that is accessed less frequently, but requires rapid access when needed.\n",
    "* **S3 One Zone - IA** - designed for customers who want a lower-cost option for infrequently accessed data, but do not require the multiple Availability Zone data resilience model of the S3 Standard and S3 Standard-Infrequent Access.\n",
    "* **S3 - Intelligent Tiering** - The S3 Intelligent-Tiering storage class is designed to optimize costs by automatically moving data to the most cost-effective access tier, without performance impact or operational overhead. It works by storing objects in two access tiers: one tier that is optimized for frequent access and another lower-cost tier that is optimized for infrequent access. For a small monthly monitoring and automation fee per object, Amazon S3 monitors access patterns of the objects in S3 Intelligent-Tiering, and moves the ones that have not been accessed for 30 consecutive days to the infrequent access tier. If an object in the infrequent access tier is accessed, it is automatically moved back to the frequent access tier.\n",
    "* **S3 Glacier** - You can reliably store any amount of data at costs that are competitive with or cheaper than on-premises solutions. To keep costs low yet suitable for varying needs, S3 Glacier provides three retrieval options that range from a few minutes to hours.  Note that you have:\n",
    "    * Expedited retrieval: 1 - 5 minutes $0.03/GB\n",
    "    * Vault / Standard: 3 - 5 hours\n",
    "    * Bulk retrievals: 5 - 12 hours\n",
    "\n",
    "* **S3 Glacier Deep Archive** - S3’s lowest-cost storage class and supports long-term retention and digital preservation for data that may be accessed once or twice in a year.\n",
    "\n",
    "\n",
    "<img src=\"images/s3_storage.png\" width=\"1000\">"
   ]
  },
  {
   "cell_type": "code",
   "execution_count": null,
   "metadata": {},
   "outputs": [],
   "source": []
  },
  {
   "cell_type": "markdown",
   "metadata": {},
   "source": [
    "### Cross-Region Replication"
   ]
  },
  {
   "cell_type": "markdown",
   "metadata": {},
   "source": [
    "TEXT"
   ]
  },
  {
   "cell_type": "markdown",
   "metadata": {},
   "source": [
    "### S3 Charges \n",
    "\n",
    "* Storage\n",
    "* Requests\n",
    "* Storage Management\n",
    "* Data Transfer\n",
    "* Transfer Acceleration\n",
    "* Cross Region Replication\n"
   ]
  },
  {
   "cell_type": "markdown",
   "metadata": {},
   "source": [
    "### S3 Access\n",
    "Bucket access is managed through **bucket policies**\n",
    "File access is managed through **access control lists**"
   ]
  },
  {
   "cell_type": "markdown",
   "metadata": {},
   "source": [
    "### Transfer Acceleration\n",
    "\n",
    "Transfer Acceleration takes advantage of Amazon's Edge Locations to make uploading data quicker.  As data arrives at an edge location data is routed to Amazon S3 via Amazon's optimized network path.\n",
    "\n",
    "<img src=\"images/transfer_acceleration.png\" width=\"600\">"
   ]
  },
  {
   "cell_type": "markdown",
   "metadata": {},
   "source": [
    "### Cross Region Replication\n",
    "\n",
    "This can help reduce latency, increasing download speed and offers support with disaster recovery.\n",
    "\n",
    "<img src=\"images/cross_region_replication.png\" width=\"600\">"
   ]
  },
  {
   "cell_type": "markdown",
   "metadata": {},
   "source": [
    "## CloudFront\n",
    "<img src=\"images/cloudfront.jpg\" width=\"400\">\n",
    "\n",
    "Cloud Front is Amazon's Content Delivery Network and is composed of Edge Locations.  It delivers content such as webpages to a user based on their location.\n",
    "\n",
    "It caches regularly used files.  If a user accesses a file for the first time it has to be downloaded from the original source.  The next time this file is downloaded, it will be downloaded from the cached file at the edge location, which will be considerably quicker.\n",
    "\n",
    "**Edge Location**\n",
    "\n",
    "This is where the content is cached.  (Note that this is separate to an AWS region or availability zone)\n",
    "\n",
    "**Origin**\n",
    "This is the origin of all the files to be distributed.  This can be an S3 bucket, an EC2 instance, a Load Balancer or Route53.\n",
    "\n",
    "**Distribution**\n",
    "This is the name given to the CDN (made up of edge locations).\n",
    "\n",
    "**TTL - Time to Live**\n",
    "This is the duration that a file will be cached for at an edge location.  This is typically specified in seconds and a common duration is 48hours. \n",
    "\n",
    "** Pricing **\n",
    "* Traffic distribution\n",
    "* Requests\n",
    "* Data Transfer out"
   ]
  },
  {
   "cell_type": "markdown",
   "metadata": {},
   "source": [
    "## EC2\n",
    "Elastic Compute Cloud\n",
    "<img src=\"images/ec2.png\" width=\"200\">\n",
    "\n",
    "### What is EC2\n",
    "EC2 is just a virtual server in the cloud.  Being quickly available in the cloud reduces the time required to boot new server instances, allowing users to scale applications quickly.  \n",
    "\n",
    "### Pricing Models\n",
    "#### On Demand\n",
    "Allows you to pay a fixed rate per hour (or per second). Best for:\n",
    "* Flexibility\n",
    "* No up-front payments\n",
    "* Applications with short term, spiky or unpredictable workloads.\n",
    "* Testing of new applications\n",
    "\n",
    "#### Reserved\n",
    "Reserving instances offers a significant discount on the hourly charge.  Requires a contract of typically 1 or 3 years.  Paying up front offers the greatest discount.  Best for:\n",
    "* Applications with steady or predictable usage\n",
    "* Applications that require reserved capacity\n",
    "* Users able to make up-front payments to reduce their total computing costs\n",
    "Reserved pricing types:\n",
    "* Standard Reserved instances\n",
    "* Convertible Reserved instances\n",
    "* Scheduled Reserved instances\n",
    "\n",
    "#### Spot\n",
    "Like a stock market for EC2 instances.  Runs your application while the price is below your chosen threshold.  Great for tasks that can be carried out at any time and don't require regular coverage (e.g. processing a batch of tasks at night once a week).  Best for:\n",
    "* Applications with flexible start/end times\n",
    "* Applications only feasible at very low compute prices \n",
    "* Users that need large amounts of additional capacity\n",
    "* **NOTE**: you will not be charged for partial usage if your instance is terminated because the price becomes too high.  You will be charged partial usage if you terminate the instance out of choice.\n",
    "\n",
    "\n",
    "#### Dedicated hosts\n",
    "Physical EC2 server restricted for sole usage by the user (similar to the old, traditional server provider model).  Large discount, but typically only used if needed for regulatory/license requirements.  Best for:\n",
    "* Meeting regulatory/license requirements \n",
    "* Can be purchased on-demand (hourly)\n",
    "* Can be purchased as a reservation for a 70% discount\n",
    "\n",
    "#### EC2 instance types\n",
    "**FILLME** Instance types!"
   ]
  },
  {
   "cell_type": "markdown",
   "metadata": {},
   "source": [
    "**FAILED EC2 launches**: An instance could get terminated during launch or restart if: the EBS Volume Limit exceeded; an EBS Snapshot is corrupt; an EBS root volume is encrypted and does not have permission to access the KMS Key for decryption; and, the instance store-backed AMI that is used to launch the instance is missing a required part file."
   ]
  },
  {
   "cell_type": "markdown",
   "metadata": {},
   "source": [
    "### EBS - Block Storage\n",
    "Cloud storage.  Think of this as a virtual hard disk in the cloud!\n",
    "<img src=\"images/ebs.png\" width=\"600\">\n",
    "\n",
    "\n",
    "<img src=\"images/ebs_table.png\" width=\"600\">\n",
    "\n",
    "#### Pricing\n",
    "* Volumes (per GB)\n",
    "* Snapshots (per GB)\n",
    "* Data Transfer"
   ]
  },
  {
   "cell_type": "markdown",
   "metadata": {},
   "source": [
    "#### Snapshots"
   ]
  },
  {
   "cell_type": "markdown",
   "metadata": {},
   "source": [
    "You can back up the data on your Amazon EBS volumes to Amazon S3 by taking point-in-time snapshots. Snapshots are incremental backups, which means that only the blocks on the device that have changed after your most recent snapshot are saved. This minimizes the time required to create the snapshot and saves on storage costs by not duplicating data. When you delete a snapshot, only the data unique to that snapshot is removed. Each snapshot contains all of the information that is needed to restore your data (from the moment when the snapshot was taken) to a new EBS volume. "
   ]
  },
  {
   "cell_type": "markdown",
   "metadata": {},
   "source": [
    "<img src=\"images/snapshots.png\" width=\"600\">\n",
    "<img src=\"images/snapshots2.png\" width=\"600\">\n"
   ]
  },
  {
   "cell_type": "markdown",
   "metadata": {},
   "source": [
    "As per the last point: **EBS Volumes cannot be attached to an EC2 instance in another AZ**"
   ]
  },
  {
   "cell_type": "markdown",
   "metadata": {},
   "source": [
    "### EBS and availability zones"
   ]
  },
  {
   "cell_type": "code",
   "execution_count": null,
   "metadata": {},
   "outputs": [],
   "source": []
  },
  {
   "cell_type": "markdown",
   "metadata": {},
   "source": [
    "### EFS"
   ]
  },
  {
   "cell_type": "markdown",
   "metadata": {},
   "source": [
    "<img src=\"images/EFS.png\" width=\"600\">"
   ]
  },
  {
   "cell_type": "markdown",
   "metadata": {},
   "source": [
    "EBS can only be mounted to one EC2 instance at a time.  EFS allows you to share files across multiple EC2s (by mounting to the EC2 instance) making it very suitable for SaaS applications."
   ]
  },
  {
   "cell_type": "markdown",
   "metadata": {},
   "source": [
    "### Firewalls\n",
    "Firewalls allow communications through different ports.  \n",
    "<img src=\"images/ports.png\" width=\"600\">"
   ]
  },
  {
   "cell_type": "markdown",
   "metadata": {},
   "source": [
    "We can specify which ports to allow:\n",
    "<img src=\"images/port_restrictions.png\" width=\"400\">\n"
   ]
  },
  {
   "cell_type": "markdown",
   "metadata": {},
   "source": [
    "We can configure the firewalls for EC2 by specifying the ports and IP addresses.`"
   ]
  },
  {
   "cell_type": "markdown",
   "metadata": {},
   "source": [
    "### Placement Groups\n",
    "Launch instances in a placement group to cluster them logically into a low-latency group, or to spread them across hardware to reduce the risk of simultaneous failure."
   ]
  },
  {
   "cell_type": "markdown",
   "metadata": {},
   "source": [
    "#### Clustered Placement Group\n",
    "A **cluster** placement group is a grouping of instances within a single availability zone.  Placement groups are recommended for applications that need low network latency, high network throughput or both.\n",
    "\n",
    "#### Spread Placement Group\n",
    "A **spread** placement group is a group of instances that are placed on distinct underlying hardware.  Spread placement groups are recommended for applications that have a small number of critical instances that should be kept separate from each other.\n",
    "\n",
    "<img src=\"images/spread_placement_group.png\" width=\"400\">\n",
    "\n",
    "#### Partitioned Placement Group\n",
    "A **partitioned** placement group is very similar to a spread placement group except you can have multiple EC2s in some of the partitions.  Typically you split partitions into logical groups.\n",
    "\n",
    "<img src=\"images/partitioned_placement_group.png\" width=\"300\">"
   ]
  },
  {
   "cell_type": "markdown",
   "metadata": {},
   "source": [
    "#### Placement Group Exam Tips"
   ]
  },
  {
   "cell_type": "markdown",
   "metadata": {},
   "source": [
    "<img src=\"images/placement_group_exam_tips.png\" width=\"600\">"
   ]
  },
  {
   "cell_type": "markdown",
   "metadata": {},
   "source": [
    "### Accessing EC2\n",
    "We use privates keys (in a .pem file) to access an EC2 instance."
   ]
  },
  {
   "cell_type": "markdown",
   "metadata": {},
   "source": [
    "### Roles - top tips\n",
    "\n",
    "Roles are much more secure than access keys.  \n",
    "Roles are easier to manage than access keys.  \n",
    "You can apply roles to EC2 instances at any time.  \n",
    "Roles are universal, similar to users."
   ]
  },
  {
   "cell_type": "markdown",
   "metadata": {},
   "source": [
    "#### AMI\n",
    "Taking an **image** of an EC2 instance allows a user to enable auto-scaling.  Taking a snapshot allows a user to 'copy/paste' EC2 instances."
   ]
  },
  {
   "cell_type": "markdown",
   "metadata": {},
   "source": [
    "**Instance Metadata**\n",
    "\n",
    "Used to get information about an instance (such as a public IP address)\n",
    "\n",
    "You can get the metadata information using: `curl http://169.254.169.254/latest/meta-data/` \n",
    "\n",
    "You can get the user data using: `curl http://169.254.169.254/latest/user-data/`"
   ]
  },
  {
   "cell_type": "markdown",
   "metadata": {},
   "source": [
    "## Elastic Load Balancer\n",
    "\n",
    "### Application Load Balancer\n",
    "\n",
    "An application load balancer is **'application aware'** and able to see into layer 7, meaning that it is able to make intelligent routing decisions to optimize your traffic (e.g. if your website is in French it will distribute across French web servers).\n",
    "\n",
    "### Network Load Balancer\n",
    "This is for when you need optimal performance and static IP addresses.  Best suited for load balancing of TCP traffic.\n",
    "\n",
    "### Classic Load Balancer\n",
    "This is the original AWS load balancer and are pretty basic.  Use these to keep costs low.\n",
    "\n",
    "### Common issues\n",
    "If the resources behind your load balancer stop working, you will receive a **504 error** - the gateway has timed out.  This could be because of the web server layer, the database layer or something similar.  You will need to identify where the application is failing and scale it up or out.\n",
    "\n",
    "### X-forwarded-For header\n",
    "If you want to know the IPv4 address of your user (e.g. to identify where they are from) you will want to use X-forwarded-for \n",
    "\n",
    "\n",
    "### AWS FAQs\n",
    "\n",
    "**Q:** How do I decide which load balancer to select for my application?\n",
    "\n",
    "**A:** Elastic Load Balancing supports three types of load balancers. You can select the appropriate load balancer based on your application needs. If you need to load balance **HTTP requests, we recommend you to use Application Load Balancer**. For **network/transport protocols (layer4 – TCP, UDP)** load balancing, and for extreme performance/low latency applications we recommend using **Network Load Balancer**. If your application is built within the EC2 Classic network then you should use Classic Load Balancer.\n",
    "\n",
    "**Q:** Can I privately access Elastic Load Balancing APIs from my Amazon Virtual Private Cloud (VPC) without using public IPs?\n",
    "\n",
    "**A:** Yes, you can privately access Elastic Load Balancing APIs from your Amazon Virtual Private Cloud (VPC) by creating VPC endpoints. With VPC endpoints, the routing between the VPC and Elastic Load Balancing APIs is handled by the AWS network without the need for an Internet gateway, NAT gateway, or VPN connection. The latest generation of VPC Endpoints used by Elastic Load Balancing are powered by AWS PrivateLink, an AWS technology enabling the private connectivity between AWS services using Elastic Network Interfaces (ENI) with private IPs in your VPCs. To learn more about AWS PrivateLink, visit the AWS PrivateLink documentation.\n",
    "\n",
    "**Q:** Is there an SLA for load balancers?\n",
    "\n",
    "**A:** Yes, Elastic Load Balancing guarantees a monthly availability of at least 99.99% for your load balancers (Classic, Application or Network). To learn more about the SLA and know if you are qualified for a credit, visit https://aws.amazon.com/elasticloadbalancing/sla/.\n",
    "\n",
    "**Q:** Which operating systems does an Application Load Balancer support?\n",
    "\n",
    "**A:** An Application Load Balancer supports targets with any operating system currently supported by the Amazon EC2 service.\n",
    "\n",
    "**Q:** Which protocols does an Application Load Balancer support?\n",
    "\n",
    "**A:** An Application Load Balancer supports load balancing of applications using HTTP and HTTPS (Secure HTTP) protocols.\n",
    "\n",
    "**Q:** Is HTTP/2 Supported on an Application Load Balancer?\n",
    "\n",
    "**A:** Yes. HTTP/2 support is enabled natively on an Application Load Balancer. Clients that support HTTP/2 can connect to an Application Load Balancer over TLS.\n",
    "\n",
    "**Q:** Is Request tracing supported on an Application Load Balancer?\n",
    "\n",
    "**A:** Yes. Request tracing is enabled by default on your Application Load Balancer.\n",
    "\n",
    "**Q:** Does a Classic Load Balancer have the same features and benefits as an Application Load Balancer?\n",
    "\n",
    "**A:** While there is some overlap, there is no feature parity between the two types of load balancers. Application Load Balancers are the foundation of our application layer load-balancing platform for the future.\n",
    "\n",
    "**Q:** Can I use the existing APIs that I use with my Classic Load Balancer with an Application Load Balancer?\n",
    "\n",
    "**A:** No. Application Load Balancers require a new set of APIs.\n",
    "\n",
    "**Q:** Can I convert my Classic Load Balancer to an Application Load Balancer (and vice versa)?\n",
    "\n",
    "**A:** No, you cannot convert one load balancer type into another.\n",
    "\n",
    "**Q:** Can I use an Application Load Balancer as a Layer-4 load balancer?\n",
    "\n",
    "**A:** No. If you need Layer-4 features, you should use Network Load Balancer.\n",
    "\n",
    "Q. How can I protect my web applications behind a load balancer from web attacks?\n",
    "\n",
    "**A:** You can integrate your Application Load Balancer with AWS WAF, a web application firewall that helps protect web applications from attacks by allowing you to configure rules based on IP addresses, HTTP headers, and custom URI strings. Using these rules, AWS WAF can block, allow, or monitor (count) web requests for your web application. Please see AWS WAF developer guide for more information.\n",
    "\n",
    "**Q:** Can I load balance to any arbitrary IP address?\n",
    "\n",
    "**A:** You can use any IP address from the load balancer’s VPC CIDR for targets within load balancer’s VPC and any IP address from RFC 1918 ranges (10.0.0.0/8, 172.16.0.0/12, and 192.168.0.0/16) or RFC 6598 range (100.64.0.0/10) for targets located outside the load balancer’s VPC (for example, targets in Peered VPC, EC2-Classic and on-premises locations reachable over AWS Direct Connect or VPN connection).\n",
    "\n",
    "**Q:** How do I enable cross-zone load balancing in Application Load Balancer?\n",
    "\n",
    "**A:** Cross-zone load balancing is already enabled by default in Application Load Balancer.\n",
    "\n",
    "**Q:** How does Application Load Balancer pricing work?\n",
    "\n",
    "**A:** You are charged for each hour or partial hour that an Application Load Balancer is running and the number of Load Balancer Capacity Units (LCU) used per hour.\n",
    "\n",
    "**Q:** Will I be billed on Classic Load Balancers by LCU?\n",
    "\n",
    "**A:** No, Classic Load Balancers will continue to be billed for bandwidth and hourly usage.\n",
    "\n",
    "**Q:** Can I create a TCP or UDP (Layer 4) listener for my Network Load Balancer?\n",
    "\n",
    "**A:** Yes. Network Load Balancers support both TCP, UDP, and TCP+UDP (Layer 4) listeners, as well as TLS listeners.\n",
    "\n",
    "**Q:** Which operating systems does the Classic Load Balancer support?\n",
    "\n",
    "**A:** The Classic Load Balancer supports Amazon EC2 instances with any operating system currently supported by the Amazon EC2 service.\n",
    "\n",
    "**Q:** Which protocols does the Classic Load Balancer support?\n",
    "\n",
    "**A:** The Classic Load Balancer supports load balancing of applications using HTTP, HTTPS (Secure HTTP), SSL (Secure TCP) and TCP protocols.\n",
    "\n",
    "MORE: https://aws.amazon.com/elasticloadbalancing/faqs/"
   ]
  },
  {
   "cell_type": "markdown",
   "metadata": {},
   "source": [
    "### Load Balancer Tips"
   ]
  },
  {
   "cell_type": "markdown",
   "metadata": {},
   "source": [
    "* You require at least two public subnets to set up a load balancer\n",
    "* Load balancers have their own DNS name.  You are never given an IP address (unless it is a network load balancer).\n",
    "* Instances monitored by ELB are reported as: InService, OutOfService\n",
    "* Health checks confirm the instance health for all instances being balanced.  You can customise the frequency and requirements of the health check.\n",
    "\n"
   ]
  },
  {
   "cell_type": "markdown",
   "metadata": {},
   "source": [
    "### Advanced Load Balancer Theory"
   ]
  },
  {
   "cell_type": "markdown",
   "metadata": {},
   "source": [
    "#### Sticky sessions\n",
    "\n",
    "Sticky sessions allow you to 'bind' a user to a specific EC2 instance so that all requests from that one user during the session are sent to the same instance. This is required when any details are being stored (e.g. writing to a file, or similar).\n",
    "\n",
    "Classic load balancers always route users to the instance with the smallest load.  This can be avoided with sticky sessions.\n",
    "\n",
    "You can use sticky sessions in an application load balancer but the user will be directed to a specific target group rather than an individual instance.\n",
    "\n",
    "#### Cross-zone load balancing\n",
    "\n",
    "<img src=\"images/Cross-zone-load-balancing.png\" width=\"600\">\n",
    "\n",
    "#### Path-based routing\n",
    "\n",
    "<img src=\"images/path-based-routing.png\" width=\"600\">\n"
   ]
  },
  {
   "cell_type": "markdown",
   "metadata": {},
   "source": [
    "### The highly available architecture"
   ]
  },
  {
   "cell_type": "markdown",
   "metadata": {},
   "source": [
    "<img src=\"images/highly-available.png\" width=\"600\">"
   ]
  },
  {
   "cell_type": "markdown",
   "metadata": {},
   "source": [
    "**Answer**: 3 availability zones with three instances.  This provides 9 instances under normal circumstances and 6 instances if there is a failure in one availability zone."
   ]
  },
  {
   "cell_type": "markdown",
   "metadata": {},
   "source": [
    "**Highly available S3 storage**:\n",
    "Remember that Standard S3 and Standard S3-IA are both highly available.  The only ones that aren't are Reduced Redundancy and S3 Single AZ."
   ]
  },
  {
   "cell_type": "markdown",
   "metadata": {},
   "source": [
    "#### Reliability\n",
    "is a measure of how often the IT system fails to operate. As there are various ways a system can fail, there are usually different categories of failure depending on severity. The failure type of greatest concern, of course, is catastrophic failure, meaning that the system stops working altogether. Reliability is usually measured in terms of the mean (average) time between failures.\n",
    "\n",
    "#### Availability\n",
    "is the measure of the proportion of time the IT system is likely to be operational over a given interval. It takes into account both the mean time between failures and the mean time to repair (a measure you did not mention). It is measured as a probability.\n",
    "\n",
    "#### Resiliency \n",
    "is a measure of the IT system's ability to self-recover from problems that might otherwise cause it to fail, such as power outages or internal equipment failure. Resiliency is most often provided by redundancies and automatic re-routing of operations within a system. Note that system operation (such as processing speed) may be degraded until the problem is fixed, but there will be little or no interruption of service, and no data will be lost.\n",
    "\n",
    "#### Fault-tolerance\n",
    "is the IT system's ability to self-detect and correct all types of problems. It is broader in scope than resilience in that it encompasses external sources of error such as faulty data transmission and user inputs."
   ]
  },
  {
   "cell_type": "markdown",
   "metadata": {},
   "source": [
    "## AWS Lambda"
   ]
  },
  {
   "cell_type": "markdown",
   "metadata": {},
   "source": [
    "<img src=\"images/lambda.png\" width=\"200\">"
   ]
  },
  {
   "cell_type": "markdown",
   "metadata": {},
   "source": [
    "* Serverless - your code runs only when triggered and is executed on 'spare' compute capacity.\n",
    "* Pay per use - You pay only for the requests served and the compute time required to run your code. \n",
    "* Bring your own code - Use any coding language by configuring a lambda layer\n",
    "\n",
    "### Lambda Pricing\n",
    "#### Request Pricing\n",
    "Free tier:\n",
    "* 1 million requests per month\n",
    "* $0.20 per million requests thereafter\n",
    "\n",
    "#### Duration Pricing\n",
    "* 400,000GB-seconds per month free\n",
    "* $0.00001667 for every GB-second thereafter"
   ]
  },
  {
   "cell_type": "markdown",
   "metadata": {},
   "source": [
    "## VPC"
   ]
  },
  {
   "cell_type": "markdown",
   "metadata": {},
   "source": [
    "When creating a VPC you create by default:\n",
    "\n",
    "* Router\n",
    "* Route Table \n",
    "* Network ACL\n",
    "* Security Group \n",
    "\n",
    "It will NOT create:\n",
    "\n",
    "* Any Subnets\n",
    "* An Internet Gateway (you can **only have 1 Internet Gateway per VPC**)\n",
    "\n",
    "\n"
   ]
  },
  {
   "cell_type": "markdown",
   "metadata": {},
   "source": [
    "**Availability Zone Randomization**: Note that availability zones are randomized across AWS user accounts.  `us-east-1a` will not be the same availability zone as `us-east-1a` in another account.  This means that if everyone selects `us-east-1a` we don't end up with one very busy AZ and two unused AZs."
   ]
  },
  {
   "cell_type": "markdown",
   "metadata": {},
   "source": [
    "### Route Tables"
   ]
  },
  {
   "cell_type": "markdown",
   "metadata": {},
   "source": [
    "Your VPC has an implicit router, and you **use route tables to control where network traffic is directed**. Each subnet in your VPC must be associated with a route table, which controls the routing for the subnet (subnet route table). **You can explicitly associate a subnet with a particular route table. Otherwise, the subnet is implicitly associated with the main route table.** A subnet can only be associated with one route table at a time, but you can associate multiple subnets with the same subnet route table. "
   ]
  },
  {
   "cell_type": "markdown",
   "metadata": {},
   "source": [
    "**Main route table**: The route table that automatically comes with your VPC. It controls the routing for all subnets that are not explicitly associated with any other route table.\n"
   ]
  },
  {
   "cell_type": "markdown",
   "metadata": {},
   "source": [
    "### How Route tables work"
   ]
  },
  {
   "cell_type": "markdown",
   "metadata": {},
   "source": [
    "Each route in a table specifies a destination and a target. For example, to enable your subnet to access the internet through an internet gateway, add the following route to your subnet route table.\n",
    "\n",
    "\n",
    "| Destination | Target | \n",
    "| --- | --- | \n",
    "| 0.0.0.0/0 | igw-12345678901234567 |\n",
    "\n",
    "The destination for the route is 0.0.0.0/0, which represents all IPv4 addresses. The target is the internet gateway that's attached to your VPC.\n",
    "\n",
    "CIDR blocks for IPv4 and IPv6 are treated separately. For example, a route with a destination CIDR of 0.0.0.0/0 does not automatically include all IPv6 addresses. You must create a route with a destination CIDR of ::/0 for all IPv6 addresses.\n",
    "\n",
    "Every route table contains a local route for communication within the VPC. This route is added by default to all route tables. If your VPC has more than one IPv4 CIDR block, your route tables contain a local route for each IPv4 CIDR block. If you've associated an IPv6 CIDR block with your VPC, your route tables contain a local route for the IPv6 CIDR block. You cannot modify or delete these routes in a subnet route table or in the main route table. "
   ]
  },
  {
   "cell_type": "markdown",
   "metadata": {},
   "source": [
    "### Reserved IP addresses in each CIDR block"
   ]
  },
  {
   "cell_type": "markdown",
   "metadata": {},
   "source": [
    "Amazon always reserves 5 IP addresses within your subnets.  For example, in a subnet with CIDR block 10.0.0.0/24, the following five IP addresses are reserved: \n",
    "\n",
    "* **10.0.0.0**: Network address.\n",
    "\n",
    "* **10.0.0.1**: Reserved by AWS for the VPC router.\n",
    "\n",
    "* **10.0.0.2**: Reserved by AWS. The IP address of the DNS server is the base of the VPC network range plus two. For VPCs with multiple CIDR blocks, the IP address of the DNS server is located in the primary CIDR. We also reserve the base of each subnet range plus two for all CIDR blocks in the VPC. For more information, see Amazon DNS Server.\n",
    "\n",
    "* **10.0.0.3**: Reserved by AWS for future use.\n",
    "\n",
    "* **10.0.0.255**: Network broadcast address. We do not support broadcast in a VPC, therefore we reserve this address.\n",
    "\n",
    "\n"
   ]
  },
  {
   "cell_type": "markdown",
   "metadata": {},
   "source": [
    "### Connecting between Private / Public Subnets"
   ]
  },
  {
   "cell_type": "markdown",
   "metadata": {},
   "source": [
    "To allow connectivity from one subnet to another, you need to configure a Security Group that allows the required access.  You can specify the IP address of the private resource you want to gain access to and the type of connectivity you wish to allow."
   ]
  },
  {
   "cell_type": "markdown",
   "metadata": {},
   "source": [
    "### NAT (Network Address Translation) - NAT Instances & NAT Gateways"
   ]
  },
  {
   "cell_type": "markdown",
   "metadata": {},
   "source": [
    "NAT Instances are becoming increasingly rare.  A NAT instance is a single instance, whereas a NAT gateway is a highly available resource.  \n",
    "\n",
    "A NAT gateway allows your private subnet access to the internet *via* your public subnet.  A NAT gateway allows outbound internet requests, but DENIES all inbound internet requests, giving you private subnet a layer of protection.  Example uses cases might be, downloading a software update onto EC2s within a private subnet.\n",
    "\n",
    "When creating a NAT gateway you will create it in your public subnet.  You will need to then edit your route tables to use the NAT gateway.  You will need to change the target to your new `igw-XXXX` resource.\n"
   ]
  },
  {
   "cell_type": "markdown",
   "metadata": {},
   "source": [
    "#### NAT tips"
   ]
  },
  {
   "cell_type": "markdown",
   "metadata": {},
   "source": [
    "<img src=\"images/NATinstances.png\" width=\"800\">"
   ]
  },
  {
   "cell_type": "markdown",
   "metadata": {},
   "source": [
    "<img src=\"images/NATgateways.png\" width=\"800\">"
   ]
  },
  {
   "cell_type": "markdown",
   "metadata": {},
   "source": [
    "<img src=\"images/NATgateways2.png\" width=\"800\">"
   ]
  },
  {
   "cell_type": "markdown",
   "metadata": {},
   "source": [
    "### NACLs"
   ]
  },
  {
   "cell_type": "markdown",
   "metadata": {},
   "source": [
    "A network access control list (ACL) is an optional layer of security for your VPC that acts as a firewall for controlling traffic in and out of one or more subnets."
   ]
  },
  {
   "cell_type": "markdown",
   "metadata": {},
   "source": [
    "A new NACL will automatically DENY EVERYTHING by default:"
   ]
  },
  {
   "cell_type": "markdown",
   "metadata": {},
   "source": [
    "<img src=\"images/NACLdefault.png\" width=\"800\">"
   ]
  },
  {
   "cell_type": "markdown",
   "metadata": {},
   "source": [
    "#### Rule Priorities\n"
   ]
  },
  {
   "cell_type": "markdown",
   "metadata": {},
   "source": [
    "Rules take place in chronological order of the rule number.  If you have *'allow all'* as `rule 100` and *'deny all'* as `rule 101`, rule 100 will trump rule 101."
   ]
  },
  {
   "cell_type": "markdown",
   "metadata": {},
   "source": [
    "#### NACL tips"
   ]
  },
  {
   "cell_type": "markdown",
   "metadata": {},
   "source": [
    "<img src=\"images/NACLtips.png\" width=\"800\">"
   ]
  },
  {
   "cell_type": "markdown",
   "metadata": {},
   "source": [
    "<img src=\"images/NACLtips.png\" width=\"800\">"
   ]
  },
  {
   "cell_type": "markdown",
   "metadata": {},
   "source": [
    "#### VPC Flow Logs"
   ]
  },
  {
   "cell_type": "markdown",
   "metadata": {},
   "source": [
    "<img src=\"images/VPCFlowLog.png\" width=\"800\">"
   ]
  },
  {
   "cell_type": "markdown",
   "metadata": {},
   "source": [
    "<img src=\"images/FlowLogLevels.png\" width=\"400\">"
   ]
  },
  {
   "cell_type": "markdown",
   "metadata": {},
   "source": [
    "### Bastion Hosts"
   ]
  },
  {
   "cell_type": "markdown",
   "metadata": {},
   "source": [
    "A bastion host is a special-purpose computer on a network specifically designed and configured to withstand attacks. The computer generally hosts a single application, for example a proxy server, and all other services are removed or limited to reduce the threat to the computer.\n"
   ]
  },
  {
   "cell_type": "markdown",
   "metadata": {},
   "source": [
    "Typically a public subnet will serve as a bastion host for a private subnet.  The public subnet will host as little as possible, meaning that if it is hacked it does not contain much information.  "
   ]
  },
  {
   "cell_type": "markdown",
   "metadata": {},
   "source": [
    "### Direct Connect"
   ]
  },
  {
   "cell_type": "markdown",
   "metadata": {},
   "source": [
    "* Direct Connect directly connects your data center to AWS\n",
    "* Useful for high throughput workloads (i.e. lots of network traffic)\n",
    "* Useful if you need a stable and reliable secure connection"
   ]
  },
  {
   "cell_type": "markdown",
   "metadata": {},
   "source": [
    "<img src=\"images/AWSDirectConnect.png\" width=\"600\">"
   ]
  },
  {
   "cell_type": "markdown",
   "metadata": {},
   "source": [
    "<img src=\"images/AWSDirectConnect2.png\" width=\"600\">"
   ]
  },
  {
   "cell_type": "markdown",
   "metadata": {},
   "source": [
    "## VPC Endpoints"
   ]
  },
  {
   "cell_type": "markdown",
   "metadata": {},
   "source": [
    "<img src=\"images/VPCEndpoint.png\" width=\"600\">"
   ]
  },
  {
   "cell_type": "markdown",
   "metadata": {},
   "source": [
    "<img src=\"images/VPCEndpoint2.png\" width=\"600\">"
   ]
  },
  {
   "cell_type": "markdown",
   "metadata": {},
   "source": [
    "There are two types of Endpoints:\n",
    "* Interface Endpoints\n",
    "* Gateway Endpoints"
   ]
  },
  {
   "cell_type": "markdown",
   "metadata": {},
   "source": [
    "**Interface Endpoints** are Elastic Network Interfaces (ENI) with a private IP address that serves as an entrypoint for traffic destined to a supported service.\n",
    "\n",
    "**Gateway Networks Intercaces** are very similar but are only available for S3 and DynamoDB."
   ]
  },
  {
   "cell_type": "markdown",
   "metadata": {},
   "source": [
    "## Databases"
   ]
  },
  {
   "cell_type": "markdown",
   "metadata": {},
   "source": [
    "### Relational Database - RDS\n",
    "\n",
    "#### Relational Databases on AWS\n",
    "* SQL Server\n",
    "* Oracle\n",
    "* MySQL Server\n",
    "* PostgreSQL\n",
    "* Aurora \n",
    "* MariaDB\n",
    "\n",
    "<img src=\"images/relational_db.png\" width=\"400\">\n",
    "\n",
    "**Key Features**:\n",
    "* **Multi-availability zones** for disaster recovery - you simply query a DNS and Amazon will update the DNS if the primary database fails\n",
    "* **Read replicas** (for performance) - Every time you write to the primary database it is copied to the secondary database.  There is NO fail over to the secondary database if the primary database fails.  The read replica is simply to boost read performance (e.g. point half of your read requests to the primary database and half to the secondary database).  You can have up to 5 read replicas!\n",
    "* RDS is not serverless (except for Aurora)\n",
    "\n",
    "<img src=\"images/db.jpg\" width=\"400\">\n",
    "\n",
    "**Note**: You can configure all of your writes to one database, and all your reads from your replica database.  This leads to a huge boost in performance.\n",
    "\n",
    "#### Multi-AZ\n",
    "If your database fails in one availability zone you can access an exact copy of your production database in another Availability Zone.  AWS handles the replication.  In the event of planned datbase maintenance, DB instance failure, or an availability zone failure, RDS will automatically failover to the standby.  It is available for:\n",
    "\n",
    "* SQL Server\n",
    "* Oracle\n",
    "* MySQL Server\n",
    "* PostgreSQL\n",
    "* MariaDB\n",
    "\n",
    "(Aurora is completely fault tolerant, so not appropriate for this example).\n",
    "\n",
    "Multi-AZ is for disaster recovery (not performance).\n",
    "\n",
    "<img src=\"images/disaster.png\" width=\"400\">\n",
    "\n",
    "#### Read replicas\n",
    "Available to boost database read performance (you still only write to one database).  You can have read replicas of read replicas and can dedicate specific EC2 instances to read from specific read replica databases.  Available for:\n",
    "\n",
    "* MySQL Server\n",
    "* PostgreSQL\n",
    "* MariaDB\n",
    "* Oracle\n",
    "* Aurora\n",
    "\n",
    "**NOTE**: You must have automated backups turned on to deploy a read replica.\n",
    "\n",
    "Each read replica will have its own DNS endpoint.  You can have read replicas with Multi-AZ.  You can promote a read replica to be their own database (this breaks the replication).  You can have a read replica in a second region.\n",
    "\n",
    "#### Automated Backups\n",
    "* Enabled by default.  \n",
    "* Stored in S3.\n",
    "* You get free storage space equal to the size of your database (e.g. 10GB database leads to 10GB storage).  If you backup every day with a retention of 35 days you will have 35*10GB storage\n",
    "* Backups are taken within a defined window.  During this window storage may be suspended while your data is being backed up and you may experience latency!\n",
    "* Automated RDS backup retention period has a **maximum configurable value of 35 days**.  To retain backups longer, RDS snapshots must be used as they are stored indefinitely. A Lambda function can be implemented to initiate the RDS snapshot. The Lambda function can be triggered on a schedule using a CloudWatch Events rule. \n",
    "\n",
    "#### Database snapshots\n",
    "* Snapshot in time taken *manually*\n",
    "<img src=\"images/db_snapshot.png\" width=\"100\">\n",
    "* They are stored even after you delete the original RDS instance (unlike automated backups)\n",
    "\n",
    "**NOTE**: whenever you restore a relational database from an automatic backup or a manual snapshot the restored version will be a new RDS instance with a new DNS endpoint.\n",
    "\n",
    "#### Encryption at Rest\n",
    "Available for MySQL, Oracle, SQL Server, PostgreSQL, MariaDB and Aurora.  Encryption is done using the AWS KMS service.  Once your RDS instance is encrypted the data stored at rest in the underlying storage is encrypted, as are its automated backups, read replicas and snapshots.\n",
    "\n",
    "If you need to encrypt a database that is not encrypted at rest, \n",
    "\n",
    "#### Pricing\n",
    "* Clock hours of server time\n",
    "* Database characteristics\n",
    "* Database type (e.g. postgres/SQLServer/etc)\n",
    "* Number of DB instances\n",
    "* Provisioned Storage\n",
    "* Additional Storage\n",
    "* Requests\n",
    "* Deployment Type\n",
    "\n",
    "\n",
    "### AWS Relational Database - Aurora\n",
    "**Key Features**:\n",
    "* Multi-availability zones for disaster recovery\n",
    "* Aurora is serverless\n",
    "\n",
    "<img src=\"images/aurora.jpeg\" width=\"400\">\n",
    "\n",
    "Amazon Aurora is a MySQL-compatible relational database engine that combines the speed and availability of high-end commercial databases with the simplicity and cost-effectiveness of open source databases.  Amazon Aurora provides up to five times better performance than MySQL at a price point one tenth that of a commercial database.\n",
    "\n",
    "**Things to know**:\n",
    "* Start with a 10GB instance and auto-scale up to 64TB.\n",
    "* Compute resources can scale up to 32vCPUs and 244GB memory\n",
    "* 2 copies of your data is contained in each availability zone, with a minimum of 3 availability zones (i.e. 6 copies of your data).\n",
    "* Aurora is designed to transparently handle the loss of up to two copies of data without affecting database write availability and up to three copies without affecting read availability.\n",
    "* Aurora storage is self-healing.  Data blocks and disks are continuously scanned for errors and repaired automatically.\n",
    "* You can make a read replica a fail over database (unlike other databases).\n",
    "* Backups are always enabled and do not impact database performance.  You can take snapshots that do not impact performance.  You can share Aurora snapshots with other AWS accounts.\n",
    "\n",
    "\n",
    "\n",
    "\n",
    "\n",
    "### AWS Non-relational Database - DynamoDB\n",
    "**Key Features**:\n",
    "* you can have any number of columns for each entry.  Other entries won't be effected.  This allows for a lot more flexibility.\n",
    "* stored on SSD storage (hence why it is so fast)\n",
    "* spread across 3 geographically distinct data centres (hence offering redundancy)\n",
    "* Eventual Consistent Reads by default.  Consistency across all copies of data is usually reached within a second (best read performance).\n",
    "* Strongly consistent reads.  Suitable for when you read data within 1 second of it being written.\n",
    "\n",
    "\n",
    "<img src=\"images/dynamo_db.png\" width=\"400\">\n",
    "\n",
    "The Primary Keys serve as the means of **unique identification for table items**, and **secondary indexes provide query flexibility**.\n",
    "\n",
    "DynamoDB uses two types of secondary indexes:\n",
    "\n",
    "* Global Secondary Index − This index possesses partition and sort keys, which can differ from table keys.\n",
    "\n",
    "* Local Secondary Index − This index possesses a partition key identical to the table, however, its sort key differs.\n",
    "\n",
    "\n",
    "### Data Warehousing - Amazon Reshift\n",
    "**Online Transaction Processing (OLTP)**\n",
    "Pulls in the information for one record. e.g.\n",
    "\n",
    "  *Query*: Order number 212121  \n",
    "  *Returns*: Name, Date of order, Delivery address, etc\n",
    "\n",
    "**Online Analytics Processing (OLAP)**  \n",
    "Pulls in large numbers of records. e.g.\n",
    "\n",
    "  *Query*: Net profit for EMEA for Digital Radio product  \n",
    "  *Returns*: Sum of EMEA, sum of unit cost, sum of retail price, calculation of net profit.\n",
    "\n",
    "Because these queries are more complicated and computationally heavy, **Data Warehousing** was created.  These have a different architecture allowing for complicated queries without affecting the performance of the source database.  Amazon's offering for Data Warehousing is called **Amazon Redshift**.  \n",
    "\n",
    "#### Pricing\n",
    "**NOTE**: 1 WCU roughly equals one write per second.\n",
    "**NOTE**: 1 RCU roughly equals two reads per second.\n",
    "\n",
    "Provision throughput WRITE: \\$ 0.47 per WCU\n",
    "\n",
    "Provision throughput READ: \\$ 0.09 per RCU\n",
    "\n",
    "Indexed data storage: hourly charge of disk space per table.  roughly \\$0.25/GB/month\n"
   ]
  },
  {
   "cell_type": "markdown",
   "metadata": {},
   "source": [
    "### Redshift \n",
    "**Key Features**:\n",
    "* Scalable\n",
    "* Multi-availability zone\n",
    "* Not designed for OLTP\n",
    "\n",
    "Amazon Redshift is a fast, fully managed, petabyte-scale data warehouse service in the cloud.  Customer can start small for just \\\\$0.25 per hour with no commitments and scale to a petabyte or more for \\\\$1,000 per terabyte per year (less than a tenth of typical warehousing solutions).\n",
    "\n",
    "**Possible configurations**:\n",
    "* Single Node (160GB)\n",
    "* Multi-Node (Leader node managed client connections and receives queries, compute node stores data and performs queries/computations).  You can have up to 128 compute nodes.\n",
    "\n",
    "Redshift uses very clever compression to store information.  It also uses massively parallel processing.  Redshift allows you scale out by adding more nodes to speed up your queries.  \n",
    "\n",
    "**NOTE**:\n",
    "* Backups enabled by default\n",
    "* Maximum retention of 35 days\n",
    "* Redshift always tries to maintain at least three copies of your data (original, replica in compute nodes, backup on S3)\n",
    "* Redshift can also asynchronously replicate your snapshots to S3 in another region for disaster recovery.\n",
    "\n",
    "**Pricing**:\n",
    "* Total number of hours you run across all your *computes* nodes for the billing period.  You are billed for 1 unit per node per hour.  e.g. if you have a 3-node data warehouse cluster running persistently for an entire month you would incur 2,160 instance hours.  You will not be charged for leader node hours, only compute nodes.\n",
    "* Backups\n",
    "* Data transfer within a VPC\n",
    "\n",
    "**Security**:\n",
    "* Encrypted in transit using SSL\n",
    "* Encrypted at rest using AES-256 encryption\n",
    "* Redshift takes care of key management\n",
    "\n",
    "\n",
    "\n",
    "\n",
    "<img src=\"images/redshift.png\" width=\"400\">"
   ]
  },
  {
   "cell_type": "markdown",
   "metadata": {},
   "source": [
    "### Elasticache\n",
    "Elasticache is a web service that allows you to deploy, operate and scale an **in-memory cache** in the cloud.  This improves the performance of web applications that need to query data.  It *caches* recent queries, meaning that you don't have to continually query the database.  An example cached query would be \"top 10 Amazon.com products\".  It doesn't change that frequently, meaning that you don't need the 'latest' information direct from the database.\n",
    "\n",
    "Elasticache supports two open-source in-memory caching engines:\n",
    "\n",
    "* Memcached (SIMPLE requirements)\n",
    "* Redis (ADVANCED requirements, multi-AZ, backups/restores)\n",
    "\n",
    "<img src=\"images/elasticache.png\" width=\"600\">\n"
   ]
  },
  {
   "cell_type": "markdown",
   "metadata": {},
   "source": [
    "### AWS Search functions\n",
    "**Cloud Search** and **Elastic Search** are the two search offerings from AWS.\n",
    "\n"
   ]
  },
  {
   "cell_type": "markdown",
   "metadata": {},
   "source": [
    "### Graph Databases\n",
    "**Amazon Neptune** is AWS's graph database offering\n",
    "\n",
    "<img src=\"images/neptune.jpg\" width=\"400\">\n",
    "<img src=\"images/neptune_example.png\" width=\"400\">\n",
    "\n",
    "\n"
   ]
  },
  {
   "cell_type": "markdown",
   "metadata": {},
   "source": [
    "## Domain Name System (DNS) - Route 53"
   ]
  },
  {
   "cell_type": "markdown",
   "metadata": {},
   "source": [
    "A domain name system works just like a **phone book**.  \n",
    "\n",
    "You can register a domain through Route 53.  Route 53 is global (like S3 and IAM).  You can use Route 53 to redirect traffic all over the world."
   ]
  },
  {
   "cell_type": "markdown",
   "metadata": {},
   "source": [
    "### What is DNS?"
   ]
  },
  {
   "cell_type": "markdown",
   "metadata": {},
   "source": [
    "<img src=\"images/DNS.png\" width=\"600\">"
   ]
  },
  {
   "cell_type": "markdown",
   "metadata": {},
   "source": [
    "#### IPV4 \n",
    "IPV4 is a 32-bit field and has over 4 billion different addresses.\n",
    "\n",
    "#### IPV6 \n",
    "IPV6 has an address space of 128-bits with over 340 undecillion address."
   ]
  },
  {
   "cell_type": "markdown",
   "metadata": {},
   "source": [
    "#### Top Level Domains\n",
    "* .com\n",
    "* .gov\n",
    "* .edu\n",
    "\n",
    "#### Second level domains\n",
    "* **.co**.uk\n",
    "\n",
    "#### Start of Authority\n",
    "Once you have bought a domain name you will have a record stored with a **Domain Registrar**.  The **Start of Authority** record is where the **DNS** will start and will contain:\n",
    "\n",
    "* The name of the server that supplied the data for the zone.\n",
    "* The administrator of the zone.\n",
    "* The current version of the data file.\n",
    "* Default number of seconds for the Time-To-Live on resource records.\n",
    "\n",
    "#### Querying a webpage\n",
    "When you type in `my-website.com` the browser will query the **top-level domain server** to try and find the IP address.  The top-level domain will have the **name server** record.  We then query the NS records for the **Start of Authority**.  It is in the SoA that we find the DNS records.  DNS records consist of different things:\n",
    "\n",
    "* **A-record** - the A stands for 'address'.  The A record translates the name into an IP address.\n",
    "* **C-name** - A canonical name.  Used to resolve one domain name to another. e.g. you might want m.my-site.com to resolve to mobile.my-site.com.  Instead of having two separate IP addresses, you can just map one to the other.\n",
    "* **Alias records** - An alias record is similar to a C-name.  The difference is that a C-name cannot be used for a 'naked domain name' (i.e. without `www.` or `mobile` or whatever domain name you are using).  Rather than referring to another DNS entry, they map dynamically to an AWS service. Many different services are supported such as ELB, S3, Cloud Front, Elastic Beanstalk, API Gateway and more.\n",
    "\n",
    "\n",
    "\n"
   ]
  },
  {
   "cell_type": "code",
   "execution_count": null,
   "metadata": {},
   "outputs": [],
   "source": []
  },
  {
   "cell_type": "markdown",
   "metadata": {},
   "source": [
    "## Route 53\n",
    "** You can buy domain names directly from AWS.  They can take up to 3 days to register (depending on circumstances).\n",
    "\n",
    "**Simple routing policy** – Use for a single resource that performs a given function for your domain, for example, a web server that serves content for the `example.com` website.  You can only have one record with multiple IP addresses.  Route 53 returns a random IP to the user.\n",
    "\n",
    "**Failover routing policy** – Use when you want to configure active-passive failover, i.e. if one service fails move straight over to another.  This is helpful if the resources aren't equally distributed (e.g one powerful ec2 could be the primary and a less powerful ec2 could be the secondary).\n",
    "\n",
    "**Geolocation routing policy** – Use when you want to route traffic based on the location of your users.  This could be beneficial when handling different languages, different currencies and different information for people based in different areas.  Much more robust than latency based routing.  \n",
    "\n",
    "**Geoproximity routing policy** – Use when you want to route traffic based on the location of your resources *and*, optionally, shift traffic from resources in one location to resources in another.  You have to use Traffic Flow for this feature.\n",
    "\n",
    "**Latency routing policy** – Use when you have resources in multiple AWS Regions and you want to route traffic to the region that provides the best latency.\n",
    "\n",
    "**Multivalue answer routing policy** – This is similar to Simple Routing but it allows you to put health checks on each record set.  Use when you want Route 53 to respond to DNS queries with up to eight healthy records selected at random.\n",
    "\n",
    "**Weighted routing policy** – Use to route traffic to multiple resources in proportions that you specify.  Route53 adds up the weightings and allocates them appropriately (e.g. 30 and 20 would allocate 60% and 40% respectively).  "
   ]
  },
  {
   "cell_type": "markdown",
   "metadata": {},
   "source": [
    "### Health checks"
   ]
  },
  {
   "cell_type": "markdown",
   "metadata": {},
   "source": [
    "A healthcheck checks the functionality of an endpoint with a given frequency.  If a record set fails, it will be removed from Route53 until it passes the healthcheck.  "
   ]
  },
  {
   "cell_type": "code",
   "execution_count": null,
   "metadata": {},
   "outputs": [],
   "source": []
  },
  {
   "cell_type": "markdown",
   "metadata": {},
   "source": [
    "## Elastic Beanstalk"
   ]
  },
  {
   "cell_type": "markdown",
   "metadata": {},
   "source": [
    "Elastic Beanstalk is for:\n",
    "* Web applications\n",
    "* Worker applications"
   ]
  },
  {
   "cell_type": "markdown",
   "metadata": {},
   "source": [
    "<img src=\"images/elasticbeanstalk.png\" width=\"600\">"
   ]
  },
  {
   "cell_type": "markdown",
   "metadata": {},
   "source": [
    "Elastic Beanstalk allows you to quickly configure applications without worrying about the infrastructure.  You simply load your application and EB automatically handles the details of capacity provisioning, load balancing, scaling and application health monitoring.\n",
    "\n",
    "Provide the seed, let the beanstalk *automatically* grow!"
   ]
  },
  {
   "cell_type": "markdown",
   "metadata": {},
   "source": [
    "## Cloud Formation"
   ]
  },
  {
   "cell_type": "markdown",
   "metadata": {
    "ExecuteTime": {
     "end_time": "2019-08-25T10:36:34.539846Z",
     "start_time": "2019-08-25T10:36:34.535435Z"
    }
   },
   "source": [
    "<img src=\"images/cloudformation.png\" width=\"600\">"
   ]
  },
  {
   "cell_type": "markdown",
   "metadata": {},
   "source": [
    "Cloud Formation is a service that allows you to model and set up your AWS resources so that you cna spend less time managing those resources.  You create a template that describes all the AWS resources that you want (like EC2 instances or RDS DB instances) and Cloud Formation takes care of provisioning and configuring these for you.  "
   ]
  },
  {
   "cell_type": "markdown",
   "metadata": {},
   "source": [
    "### Cloud Formation vs Elastic Beanstalk\n",
    "Elastic Beanstalk is limited in what it can provision and is not programmable.  Cloud Formation can provision almost any AWS service and is completely programmable."
   ]
  },
  {
   "cell_type": "markdown",
   "metadata": {},
   "source": [
    "### Cloud Formation Templates\n",
    "Cloud Formation allows you to codify the design of your application.  A CloudFormation template is made up of the following sections:\n",
    "\n",
    "- AWSTemplateFormatVersion\n",
    "\n",
    "- Description\n",
    "\n",
    "- Metadata\n",
    "\n",
    "- Parameters\n",
    "  \n",
    "- Mappings\n",
    "\n",
    "- Conditions\n",
    "\n",
    "- Transform\n",
    "\n",
    "- Resources\n",
    "\n",
    "- Outputs\n"
   ]
  },
  {
   "cell_type": "markdown",
   "metadata": {},
   "source": [
    "## Global vs regional services"
   ]
  },
  {
   "cell_type": "markdown",
   "metadata": {},
   "source": [
    "|Service|Regional/Global|\n",
    "|----------|----------|\n",
    "|IAM|Global|\n",
    "|Route53|Global|\n",
    "|Cloudfront|Global|\n",
    "|SNS & SES|Global|\n",
    "|S3|Global *view* but is regional|\n"
   ]
  },
  {
   "cell_type": "markdown",
   "metadata": {},
   "source": [
    "## Which services can be used on premise?\n",
    "\n",
    "|Service|Available on premise|\n",
    "|----------|----------|\n",
    "|Snowball|Basically a big 80TB data disk (for quick loading into s3)|\n",
    "|Snowball Edge|Lambda functions on premise (Boeing use this for aircraft testing).  For use where there is no connectivity|\n",
    "|Storage Gateway|Similar to Snowball but stays on premise *permanently*.  This is a way of caching your files on premise.  Replicates on s3|\n",
    "|CodeDeploy|Can be used to deploy code to EC2 or can be used to deploy to local servers|\n",
    "|Opsworks|Similar to Elastic Beanstalk.  Automated deployment.  Available for local servers|\n",
    "|IoT Greengrass|Connects IoT devices to AWS cloud via on premise service|\n",
    "\n",
    "\n",
    "\n"
   ]
  },
  {
   "cell_type": "markdown",
   "metadata": {},
   "source": [
    "### Deploying applications on premise\n",
    "Use Code Deploy and Opsworks"
   ]
  },
  {
   "cell_type": "markdown",
   "metadata": {},
   "source": [
    "## Cloudwatch\n",
    "CloudWatch monitors performance.  It can monitor most of AWS, plus monitoring applications that you specify (e.g. you can upload code to monitor how many people are visiting your website).\n",
    "\n",
    "<img src=\"images/cloudwatch.png\" width=\"600\">"
   ]
  },
  {
   "cell_type": "markdown",
   "metadata": {},
   "source": [
    "Cloudwatch Host Level Metrics:\n",
    "* CPU\n",
    "* Network\n",
    "* Disk\n",
    "* Status Check\n"
   ]
  },
  {
   "cell_type": "markdown",
   "metadata": {},
   "source": [
    "**Note:**\n",
    "* Standard monitoring = 5 minutes\n",
    "* Detailed monitoring = 1 minute\n",
    "* Cloud watch allows for:\n",
    "  * Dashboards - visualization \n",
    "  * Alarms - when thresholds are hit \n",
    "  * Events - respond to state changes in AWS resources\n",
    "  * Logs - aggregate, monitor and store log data\n",
    "\n"
   ]
  },
  {
   "cell_type": "markdown",
   "metadata": {},
   "source": [
    "CloudWatch can also be used for auto EC2 recovery!"
   ]
  },
  {
   "cell_type": "markdown",
   "metadata": {},
   "source": [
    "### Cloud Trail"
   ]
  },
  {
   "cell_type": "markdown",
   "metadata": {},
   "source": [
    "Monitors and logs API calls.  Allows for a clear audit trail of who used what and when."
   ]
  },
  {
   "cell_type": "markdown",
   "metadata": {},
   "source": [
    "## AWS Systems Manager"
   ]
  },
  {
   "cell_type": "markdown",
   "metadata": {},
   "source": [
    "Allows you to manage your EC2 instances (or VM machines) at scale.  You install a piece of software on each EC2 instance allowing conrol from AWS Systems Manager"
   ]
  },
  {
   "cell_type": "markdown",
   "metadata": {},
   "source": [
    "<img src=\"images/awssystemsmanager.png\" width=\"600\"> \n",
    "Integrates with Cloudwatch to provide monitoring."
   ]
  },
  {
   "cell_type": "markdown",
   "metadata": {},
   "source": [
    "### Security Best Practices\n",
    "### Secure the root account!\n",
    "The root account controls everything, so make sure you **enable MFA** and ideally **delete user access keys** for the root account.  Instead, log in using your email and password and create a user account with admin permissions.\n",
    "### Create individual IAM roles\n",
    "Don't use root credentials to access AWS.  Equally, don't allow anyone to share credentials.\n",
    "### Use groups to assign permissions\n",
    "Don't provide access permissions to individual people.  Instead use groups to assign access for different user functions (e.g. admin, developers, accounting, etc).  This is much simpler to maintain and less prone to error.\n",
    "### Grant least privilege\n",
    "Always start with the minimum permissions required to perform a task.  Don't ever grant full access for ease!\n",
    "### Use policy conditions for extra security\n",
    "Additional checks such as *whitelisted IP addresses* can help to further secure a resource.\n",
    "### Monitor activity\n",
    "Use Cloudwatch and enable alerts for specific events."
   ]
  },
  {
   "cell_type": "markdown",
   "metadata": {},
   "source": [
    "## Lightsail\n",
    "A 'Platform-as-a-service' that allows users to quickly deploy applications without a lot of management"
   ]
  },
  {
   "cell_type": "markdown",
   "metadata": {},
   "source": [
    "## AWS Snowball"
   ]
  },
  {
   "cell_type": "markdown",
   "metadata": {},
   "source": [
    "<img src=\"images/snowball.png\" width=\"400\">"
   ]
  },
  {
   "cell_type": "markdown",
   "metadata": {},
   "source": [
    "The most efficient way to get huge amounts of data onto the cloud, particularly if you have a slow internet.  \n",
    "### Pricing\n",
    "Per job:\n",
    "* 50TB: \\$200 \n",
    "* 80TB: \\$250\n",
    "\n",
    "Daily Charge:\n",
    "* First 10 days are free, then \\$15/day\n",
    "\n",
    "Data transfer:\n",
    "* Data transfer into S3 is free"
   ]
  },
  {
   "cell_type": "markdown",
   "metadata": {},
   "source": [
    "## Tagging"
   ]
  },
  {
   "cell_type": "markdown",
   "metadata": {},
   "source": [
    "You can better monitor your activity and spend using resource tags.  These are just key-value pairs attached to your resources.  It can be helpful to tag any of the following:\n",
    "\n",
    "* Public and Private IP addresses\n",
    "* ELB - Port configurations\n",
    "* RDS - database engine, etc\n",
    "* Location of resource\n",
    "* ID of user who created resource\n",
    "\n",
    "\n",
    "You can also perform automated tasks on all resources with particular tags.  e.g. you can terminate all instances with the tag *temporary*.\n",
    "\n"
   ]
  },
  {
   "cell_type": "markdown",
   "metadata": {},
   "source": [
    "## FREE SERVICES"
   ]
  },
  {
   "cell_type": "markdown",
   "metadata": {},
   "source": [
    "* Amazon VPC\n",
    "* Elastic Beanstalk\n",
    "* CloudFormation\n",
    "* Identity Access Management\n",
    "* Auto-Scaling\n",
    "* Opsworks\n",
    "* Consolidated Billing"
   ]
  },
  {
   "cell_type": "markdown",
   "metadata": {},
   "source": [
    "## AWS Account Manager"
   ]
  },
  {
   "cell_type": "markdown",
   "metadata": {},
   "source": [
    "AWS account manager is an account management service that enables you to consolidate multiple AWS accounts into an organization that you create and centrally manage."
   ]
  },
  {
   "cell_type": "markdown",
   "metadata": {},
   "source": [
    "<img src=\"images/account_manager.png\" width=\"600\">"
   ]
  },
  {
   "cell_type": "markdown",
   "metadata": {},
   "source": [
    "* Currently limited to 20 linked accounts (with the option to add more)\n",
    "* Billing alerts across all accounts is included by default (but you can still create individual billing alerts per account)"
   ]
  },
  {
   "cell_type": "markdown",
   "metadata": {},
   "source": [
    "**Note:** the paying account should be used for billing monitoring only.  If you want to instantiate EC2 instances, create a new account."
   ]
  },
  {
   "cell_type": "markdown",
   "metadata": {},
   "source": [
    "### Consolidated Billing"
   ]
  },
  {
   "cell_type": "markdown",
   "metadata": {},
   "source": [
    "Advantages: \n",
    "* One bill per AWS account\n",
    "* Easy to track and compare costs\n",
    "* Volume pricing discount"
   ]
  },
  {
   "cell_type": "markdown",
   "metadata": {},
   "source": [
    "### Using CloudTrail across all acounts"
   ]
  },
  {
   "cell_type": "markdown",
   "metadata": {},
   "source": [
    "CloudTrail is per AWS and is enabled per region.  To access CloudTrail information across all accounts you should enable CloudTrail in each account and send the information to an s3 bucket accessible by the paying account.  This will give you a global view of all accounts."
   ]
  },
  {
   "cell_type": "markdown",
   "metadata": {},
   "source": [
    "## AWS Config"
   ]
  },
  {
   "cell_type": "markdown",
   "metadata": {},
   "source": [
    "AWS Config is a service that enables you to assess, audit, and evaluate the configurations of your AWS resources. Config continuously monitors and records your AWS resource configurations and allows you to automate the evaluation of recorded configurations against desired configurations. \n",
    "\n",
    "AWS Config does the following:\n",
    "\n",
    "* Retrieves configurations of one or more resources that exist in your account\n",
    "* Retrieves historical configurations of one or more resources\n",
    "* Produces a snapshot of the current configurations of the supported resources that are associated with your AWS account\n",
    "* Evaluates your AWS resource configurations for desired settings\n",
    "* Sends notifications whenever a resource is created, modified, or deleted\n",
    "* Shows relevant relationships between resources\n"
   ]
  },
  {
   "cell_type": "markdown",
   "metadata": {},
   "source": [
    "## AWS Quick Start"
   ]
  },
  {
   "cell_type": "markdown",
   "metadata": {},
   "source": [
    "Quick start is a series of pre-built templates for common environment designs.  You can quickly leverage these to get your environment up and running very quickly with a lot of best practises pre-built in."
   ]
  },
  {
   "cell_type": "markdown",
   "metadata": {},
   "source": [
    "## AWS Landing Zone"
   ]
  },
  {
   "cell_type": "markdown",
   "metadata": {},
   "source": [
    "Landing zone is similar to AWS Quick Start but allows you to set up a multi-account environment at the click of a button."
   ]
  },
  {
   "cell_type": "markdown",
   "metadata": {},
   "source": [
    "## AWS Cost Calculator"
   ]
  },
  {
   "cell_type": "markdown",
   "metadata": {},
   "source": [
    "There are two types of calculator:\n",
    "* AWS simple monthly calculator - how much is this going to cost?\n",
    "* Total cost of ownership calculator - how much will this cost to do on-premise vs on the cloud?"
   ]
  },
  {
   "cell_type": "markdown",
   "metadata": {},
   "source": [
    "## AWS Compliance\n",
    "\n",
    "There are lots of different reports on different compliance measures and is available on aws.amazon.com/compliance \n",
    "\n",
    "**AWS Artifacts** relates to getting compliance documents"
   ]
  },
  {
   "cell_type": "markdown",
   "metadata": {},
   "source": [
    "<img src=\"images/shared_responsibility.png\" width=\"800\">"
   ]
  },
  {
   "cell_type": "markdown",
   "metadata": {},
   "source": [
    "## Storage Gateway"
   ]
  },
  {
   "cell_type": "markdown",
   "metadata": {},
   "source": [
    "AWS Storage Gateway is a **hybrid cloud storage service** that gives you on-premises access to virtually unlimited cloud storage. Customers use Storage Gateway to simplify storage management and reduce costs for key hybrid cloud storage use cases.\n",
    "\n",
    "The service provides three different types of gateways: \n",
    "\n",
    "### File Gateway\n",
    "For flat files.  Directly stored on S3.\n",
    "\n",
    "### Tape Library\n",
    "Used for backup and uses popular backup applications such as NetBackUp, BackupExec, Veeam, etc\n",
    "\n",
    "### Volume Gateway\n",
    "\n",
    "**Stored Volume**: Entire dataset is stored on site and is asynchronously backed up to S3.\n",
    "\n",
    "**Cached Volumes**: Entire dataset is stored on S3 and only most recently used files are 'cached' on site.\n",
    "\n",
    "\n",
    "\n",
    "\n",
    "\n"
   ]
  },
  {
   "cell_type": "markdown",
   "metadata": {},
   "source": [
    "## Security Groups"
   ]
  },
  {
   "cell_type": "markdown",
   "metadata": {},
   "source": [
    "A security group acts as a virtual firewall for your **EC2** instance to control inbound and outbound traffic. When you launch an instance in a VPC, you can assign up to five security groups to the instance. Security groups act at the instance level, not the subnet level. Therefore, each instance in a subnet in your VPC could be assigned to a different set of security groups. If you don't specify a particular group at launch time, the instance is automatically assigned to the default security group for the VPC. "
   ]
  },
  {
   "cell_type": "markdown",
   "metadata": {},
   "source": [
    "* You have limits on the number of security groups that you can create per VPC, the number of rules that you can add to each security group, and the number of security groups you can associate with a network interface. For more information, see Amazon VPC Limits.\n",
    "* You can specify allow rules, but not deny rules.\n",
    "* You can specify separate rules for inbound and outbound traffic.\n",
    "* When you create a security group, it has no inbound rules. Therefore, no inbound traffic originating from another host to your instance is allowed until you add inbound rules to the security group.\n",
    "* **By default, a security group includes an outbound rule that allows all outbound traffic**. You can remove the rule and add outbound rules that allow specific outbound traffic only. If your security group has no outbound rules, no outbound traffic originating from your instance is allowed.\n",
    "* Security groups are stateful — if you send a request from your instance, the response traffic for that request is allowed to flow in regardless of inbound security group rules. Responses to allowed inbound traffic are allowed to flow out, regardless of outbound rules.\n",
    "* Note\n",
    "* Some types of traffic are tracked differently to others. For more information, see Connection Tracking in the Amazon EC2 User Guide for Linux Instances.\n",
    "* Instances associated with a security group can't talk to each other unless you add rules allowing it (exception: the default security group has these rules by default).\n",
    "* Security groups are associated with network interfaces. After you launch an instance, you can change the security groups associated with the instance, which changes the security groups associated with the primary network interface (eth0). You can also specify or change the security groups associated with any other network interface. By default, when you create a network interface, it's associated with the default security group for the VPC, unless you specify a different security group. For more information about network interfaces, see Elastic Network Interfaces.\n",
    "* When you create a security group, you must provide it with a name and a description. The following rules apply:\n",
    "* Names and descriptions can be up to 255 characters in length.\n",
    "* Names and descriptions are limited to the following characters: a-z, A-Z, 0-9, spaces, and ._-:/()#,@[]+=&;{}!$*.\n",
    "* A security group name cannot start with sg-.\n",
    "* A security group name must be unique within the VPC.\n",
    "\n",
    "\n"
   ]
  },
  {
   "cell_type": "markdown",
   "metadata": {},
   "source": [
    "<img src=\"images/security_groups.png\" width=\"600\">"
   ]
  },
  {
   "cell_type": "markdown",
   "metadata": {},
   "source": [
    "<img src=\"images/security_groups2.png\" width=\"600\">"
   ]
  },
  {
   "cell_type": "code",
   "execution_count": null,
   "metadata": {},
   "outputs": [],
   "source": []
  },
  {
   "cell_type": "code",
   "execution_count": null,
   "metadata": {},
   "outputs": [],
   "source": []
  },
  {
   "cell_type": "markdown",
   "metadata": {},
   "source": [
    "# VPCs"
   ]
  },
  {
   "cell_type": "markdown",
   "metadata": {},
   "source": [
    "Amazon Virtual Private Cloud (Amazon VPC) enables you to launch AWS resources into a virtual network that you've defined. This virtual network closely resembles a traditional network that you'd operate in your own data center, with the benefits of using the scalable infrastructure of AWS. "
   ]
  },
  {
   "cell_type": "markdown",
   "metadata": {},
   "source": [
    "<img src=\"images/VPCs.png\" width=\"600\">"
   ]
  },
  {
   "cell_type": "markdown",
   "metadata": {},
   "source": [
    "<img src=\"images/VPCinfo.png\" width=\"600\">"
   ]
  },
  {
   "cell_type": "markdown",
   "metadata": {},
   "source": [
    "## CIDR host addresses"
   ]
  },
  {
   "cell_type": "markdown",
   "metadata": {},
   "source": [
    "Use this tool for info on CIDR addresses: https://cidr.xyz/"
   ]
  },
  {
   "cell_type": "markdown",
   "metadata": {},
   "source": [
    "## VPC Peering"
   ]
  },
  {
   "cell_type": "markdown",
   "metadata": {},
   "source": [
    "<img src=\"images/VPCPeering.png\" width=\"600\">"
   ]
  },
  {
   "cell_type": "markdown",
   "metadata": {},
   "source": [
    "VPC Peering does not support transitive peering (where traffic \"passes through\" the peered VPC on its way to its final destination).  This is true even for a NAT gateway accessing the internet.  It cannot be done through another VPC. "
   ]
  },
  {
   "cell_type": "markdown",
   "metadata": {},
   "source": [
    "https://docs.aws.amazon.com/vpc/latest/peering/invalid-peering-configurations.html#transitive-peering"
   ]
  },
  {
   "cell_type": "markdown",
   "metadata": {},
   "source": [
    "## Elastic IP addresses"
   ]
  },
  {
   "cell_type": "markdown",
   "metadata": {},
   "source": [
    "**FILLME**: "
   ]
  },
  {
   "cell_type": "code",
   "execution_count": null,
   "metadata": {},
   "outputs": [],
   "source": []
  },
  {
   "cell_type": "code",
   "execution_count": null,
   "metadata": {},
   "outputs": [],
   "source": []
  },
  {
   "cell_type": "markdown",
   "metadata": {},
   "source": [
    "# Routing Table "
   ]
  },
  {
   "cell_type": "markdown",
   "metadata": {},
   "source": [
    "A route table contains a set of rules, called routes, that are used to determine where network traffic will be directed "
   ]
  },
  {
   "cell_type": "markdown",
   "metadata": {},
   "source": [
    "## NAT gateway"
   ]
  },
  {
   "cell_type": "markdown",
   "metadata": {},
   "source": [
    "A NAT gateway allows your private subnet access to the internet *via* your public subnet.  A NAT gateway allows outbound internet requests, but DENIES all inbound internet requests, giving you private subnet a layer of protection.  Example uses cases might be, downloading a software update onto EC2s within a private subnet."
   ]
  },
  {
   "cell_type": "markdown",
   "metadata": {},
   "source": [
    "**FILLME**: Do peering VPCs need more than one NAT gateway? High availability vs minimum cost.\n",
    "\n"
   ]
  },
  {
   "cell_type": "markdown",
   "metadata": {},
   "source": [
    "# Internet Gatway"
   ]
  },
  {
   "cell_type": "markdown",
   "metadata": {},
   "source": [
    "An internet gateway is a horizontally scaled, redundant, and highly available VPC component that allows communication between instances in your VPC and the internet. It therefore imposes no availability risks or bandwidth constraints on your network traffic. "
   ]
  },
  {
   "cell_type": "markdown",
   "metadata": {},
   "source": [
    "# AWS Services"
   ]
  },
  {
   "cell_type": "markdown",
   "metadata": {},
   "source": [
    "## SQS"
   ]
  },
  {
   "cell_type": "markdown",
   "metadata": {},
   "source": [
    "<img src=\"images/SQS.png\" width=\"600\">"
   ]
  },
  {
   "cell_type": "markdown",
   "metadata": {},
   "source": [
    "<img src=\"images/SQS_info.png\" width=\"600\">"
   ]
  },
  {
   "cell_type": "markdown",
   "metadata": {},
   "source": [
    "<img src=\"images/SQS_info2.png\" width=\"600\">\n",
    "\n",
    "**NOTE**: You can use the length of the queue to autoscale a target group.  e.g. if the queue is longer than 100, add another instance."
   ]
  },
  {
   "cell_type": "markdown",
   "metadata": {},
   "source": [
    "There are **two types** of queues:\n",
    "* default\n",
    "* FIFO (first in, first out)\n",
    "\n",
    "### Default\n",
    "\n",
    "* Offers *nearly* unlimited number of transactions per second.\n",
    "* Guarantees that a message is delivered *at least once*\n",
    "* Offers *best-effort* ordering, which generally ensures that messages are delivered in the order they are sent.\n",
    "\n",
    "### FIFO\n",
    "\n",
    "* Same as default, but the order is **strictly** preserved.\n"
   ]
  },
  {
   "cell_type": "markdown",
   "metadata": {},
   "source": [
    "### NOTEWORTHY\n",
    "SQS is **pull-based**.  The messages in the queue remain until a resource pulls them.  If your service is down, the queue will just wait.\n",
    "\n",
    "Messages can be kept in the queue for any time between 1 minute and 14 days.  The default is 4 days.\n",
    "\n",
    "**Visibility time-out**.  When a resource takes a message from the queue it will render the message *invisible* in the queue (so other resources don't pull this message).  The message is invisible for the duration of the visibility time-out.  If the resource does not **delete** the message from the queue once it is finished, the message will become visible in the queue again.  The visibility time-out maximum is **12 hours**.\n",
    "\n",
    "**LONG-polling** and **SHORT-polling** are both ways to obtain messages from the queue.  **Short-polling** will react instantly and will either return an item or an empty queue if nothing is present.  **Long-polling** will return an item once there is an item in the queue or until it times-out (*i.e.* it will wait until a message appears if the queue is empty)."
   ]
  },
  {
   "cell_type": "markdown",
   "metadata": {},
   "source": [
    "## SWF - Simple Workflow Service"
   ]
  },
  {
   "cell_type": "markdown",
   "metadata": {},
   "source": [
    "<img src=\"images/SWF.png\" width=\"200\">\n"
   ]
  },
  {
   "cell_type": "markdown",
   "metadata": {},
   "source": [
    "SWF is a web service that co-ordinates work across distributed application components.  Amazon SWF helps developers build, run, and scale background jobs that have parallel or sequential steps. You can think of Amazon SWF as a fully-managed state tracker and task coordinator in the Cloud.\n",
    "\n",
    "If your app's steps take more than 500 milliseconds to complete, you need to track the state of processing, and you need to recover or retry if a task fails, Amazon SWF can help you.\n",
    "\n",
    "Tasks can be: \n",
    "* executable code\n",
    "* web service calls\n",
    "* human interaction\n",
    "* scripts\n",
    "\n",
    "AWS SWF is used at Amazon warehouses!  When collecting deliveries, a human will need to find the item in the warehouse and mark this as done in AWS SWF.  \n",
    "\n",
    "### NOTEWORTHY\n",
    "AWS SWF **workflow executions can last up to 1 year** (as opposed to 14 days for SQS).  \n",
    "\n",
    "SWF offers a task-oriented API, whereas SQS offers a message-oriented API.\n",
    "\n",
    "SWF ensures that a task is **only issued once**.\n",
    "\n",
    "SWF **tracks the state of each task and event** in an application.  SQS only holds messages in the queue.\n",
    "\n",
    "### SWF Actors\n",
    "**Starters** can initiate a workflow.  **Deciders** control the flow of activity tasks.  **Activity workers** carry out task activities. "
   ]
  },
  {
   "cell_type": "markdown",
   "metadata": {},
   "source": [
    "## SNS - Simple Notification Service"
   ]
  },
  {
   "cell_type": "markdown",
   "metadata": {},
   "source": [
    "<img src=\"images/SNS.png\" width=\"700\">"
   ]
  },
  {
   "cell_type": "markdown",
   "metadata": {},
   "source": [
    "SNS allows you to send **push notifications**"
   ]
  },
  {
   "cell_type": "markdown",
   "metadata": {},
   "source": [
    "<img src=\"images/SNS_use.png\" width=\"700\">"
   ]
  },
  {
   "cell_type": "markdown",
   "metadata": {},
   "source": [
    "<img src=\"images/SNS_methods.png\" width=\"700\">"
   ]
  },
  {
   "cell_type": "markdown",
   "metadata": {},
   "source": [
    "<img src=\"images/SNS_redundancy.png\" width=\"700\">"
   ]
  },
  {
   "cell_type": "markdown",
   "metadata": {},
   "source": [
    "<img src=\"images/SNS_topics.png\" width=\"700\">"
   ]
  },
  {
   "cell_type": "markdown",
   "metadata": {},
   "source": [
    "## SNS vs SQS"
   ]
  },
  {
   "cell_type": "markdown",
   "metadata": {},
   "source": [
    "**PUSH** vs **PULL**\n",
    "\n",
    "<img src=\"images/SNSvsSQS.png\" width=\"700\">"
   ]
  },
  {
   "cell_type": "markdown",
   "metadata": {},
   "source": [
    "## Elastic Transcoder"
   ]
  },
  {
   "cell_type": "markdown",
   "metadata": {},
   "source": [
    "<img src=\"images/et.png\" width=\"100\">"
   ]
  },
  {
   "cell_type": "markdown",
   "metadata": {},
   "source": [
    "<img src=\"images/ElasticTranscoder.png\" width=\"700\">"
   ]
  },
  {
   "cell_type": "markdown",
   "metadata": {},
   "source": [
    "## API Gateway"
   ]
  },
  {
   "cell_type": "markdown",
   "metadata": {},
   "source": [
    "Think of API gateway as the 'front door' of our application"
   ]
  },
  {
   "cell_type": "markdown",
   "metadata": {},
   "source": [
    "<img src=\"images/API_gateway.png\" width=\"700\">"
   ]
  },
  {
   "cell_type": "markdown",
   "metadata": {},
   "source": [
    "<img src=\"images/API_info.png\" width=\"700\">"
   ]
  },
  {
   "cell_type": "markdown",
   "metadata": {},
   "source": [
    "<img src=\"images/API_howto.png\" width=\"700\">"
   ]
  },
  {
   "cell_type": "markdown",
   "metadata": {},
   "source": [
    "### API gateway certificates?"
   ]
  },
  {
   "cell_type": "markdown",
   "metadata": {},
   "source": [
    "<img src=\"images/API_certificates.png\" width=\"700\">"
   ]
  },
  {
   "cell_type": "markdown",
   "metadata": {},
   "source": [
    "### API caching\n",
    "You can configure your API to **cache** responses for common queries.  This will reduce the number of calls made to your endpoint and help to reduce latency.  The response will be cached for the TTL (in seconds) specified.\n",
    "\n"
   ]
  },
  {
   "cell_type": "markdown",
   "metadata": {},
   "source": [
    "## Same Origin Policy\n",
    "\n",
    "The **same-origin policy** is a critical security mechanism that **restricts how a document or script loaded from one origin can interact with a resource from another origin**. \n",
    "\n",
    "Origin is defined as combination of scheme (protocol) , host (domain) and port of the web contents URL:\n",
    "\n",
    "<center>http(protocol)://localhost(domain):8080(port)<center/>\n",
    "\n",
    "**PROBLEM**: All AWS resources have their own domain (e.g. s3, dynamoDB, etc).\n",
    "\n",
    "**SOLUTION**: CORS\n"
   ]
  },
  {
   "cell_type": "markdown",
   "metadata": {},
   "source": [
    "## CORS\n",
    "CORS allows a server to **relax** the same origin policy for some resources\n",
    "\n",
    "<img src=\"images/CORS.png\" width=\"700\">\n"
   ]
  },
  {
   "cell_type": "markdown",
   "metadata": {},
   "source": [
    "<img src=\"images/CORS_info.png\" width=\"700\">"
   ]
  },
  {
   "cell_type": "markdown",
   "metadata": {},
   "source": [
    "## Kinesis\n",
    "**STREAMING DATA** is data that is generated continuously.  Typically data sources will send the records continuously/simultaneously in small packets (typically order of kilobytes).\n",
    "\n",
    "Examples: \n",
    "* Purchases from an online store\n",
    "* Stock prices\n",
    "* Gaming data (progress of the player)\n",
    "* Geospatial data (e.g. Uber)\n",
    "* ioT sensor data (e.g. a weather station sensor)\n",
    "\n",
    "<img src=\"images/Kinesis.png\" width=\"700\">\n",
    "\n",
    "### Kinesis Streams\n",
    "Typically stores data between 24 hours and 7 days (default is 24 hours).\n",
    "<img src=\"images/streams.png\" width=\"700\">\n",
    "\n",
    "#### Shards\n",
    "Kinesis Streams typically stores information in **shards**:\n",
    "* A shared allows up to 5 reads per second (up to 2MB per second).\n",
    "* 1,000 records per second for writes (up to 1MB per second).\n",
    "Streams is the only method that uses **shards**.\n",
    "\n",
    "\n",
    "### Kinesis Firehose \n",
    "Kinesis Fireshose offers NO PERSISTENCE (i.e. it does not store your data.  You must use a lambda function or some comput capacity to use this data in some way when it arrives into Kinesis Firehose.\n",
    "<img src=\"images/firehose.png\" width=\"700\">\n",
    "\n",
    "\n",
    "### Kinesis Analytics\n",
    "Works with Streams/Firehose.  It calculates information *\"on the fly\"* and stores this data either on S3, Redshift or Elastic Search Cluster.\n",
    "<img src=\"images/analytics.png\" width=\"700\">\n",
    "\n"
   ]
  },
  {
   "cell_type": "markdown",
   "metadata": {},
   "source": [
    "## Cognito (Web Identity Federation)\n",
    "Allows you to give users access to AWS resources after they have successfully authenticated with a web-based identity provider like Amazon, Facebook, Google, etc.  Following successful authentication the user receives a token which they can trade for temporary AWS security credentials.\n",
    "\n",
    "Cognito brokers between the app and Facebook or Google to provide temporary credentials which map to an IAM role allowing access to the required resources.  **No need to embed or store AWS credentials locally on the device**.  Offers seamless experience across all devices.\n",
    "\n",
    "### User Pools \n",
    "User pools are for USERS!\n",
    "\n",
    "<img src=\"images/userpool.png\" width=\"700\">\n",
    "\n",
    "### Identity Pools\n",
    "Identity Pools provide temporary AWS credentials to AWS services like DynamoDB or S3.\n",
    "\n",
    "### Example workflow\n",
    "<img src=\"images/user_identity_pool.png\" width=\"700\">\n",
    "\n",
    "### Device management\n",
    "Cognito synchronises changes across *ALL* of your devices by sending a SNS silent push notification\n",
    "<img src=\"images/cognitoSNSpush.png\" width=\"700\">\n"
   ]
  },
  {
   "cell_type": "markdown",
   "metadata": {},
   "source": [
    "## AWS Lambda"
   ]
  },
  {
   "cell_type": "markdown",
   "metadata": {},
   "source": [
    "Serverless execution of code.\n",
    "\n",
    "* No server maintainence\n",
    "* Highly scalable (e.g. 5 API gateway requests -> 5 lambda function executions).  Make sure to throttle lambda if you don't want to be 'spammed'.\n",
    "* Cost effective!\n",
    "\n",
    "If you are struggling to track your serverless execution of code, make sure to check out **AWS X-Ray** to identify, track and debug your lambda functions.\n"
   ]
  },
  {
   "cell_type": "markdown",
   "metadata": {},
   "source": [
    "### Lambda pricing"
   ]
  },
  {
   "cell_type": "markdown",
   "metadata": {},
   "source": [
    "* The amount of memory assigned.\n",
    "* The compute time in (100ms units)."
   ]
  },
  {
   "cell_type": "markdown",
   "metadata": {},
   "source": [
    "## AWS WAF\n",
    "AWS WAF is a web application firewall that helps protect your web applications or APIs against common web exploits that may affect availability, compromise security, or consume excessive resources.\n",
    "\n",
    "AWS WAF gives you control over how traffic reaches your applications by enabling you to create security rules that block common attack patterns, such as SQL injection or cross-site scripting, and rules that filter out specific traffic patterns you define. You can get started quickly using Managed Rules for AWS WAF, a pre-configured set of rules managed by AWS or AWS Marketplace Sellers. The Managed Rules for WAF address issues like the OWASP Top 10 security risks. These rules are regularly updated as new issues emerge. AWS WAF includes a full-featured API that you can use to automate the creation, deployment, and maintenance of security rules.\n",
    "\n",
    "\n",
    "## AWS Shield\n",
    "AWS Shield is a managed Distributed Denial of Service (DDoS) protection service that safeguards applications running on AWS.\n",
    "\n",
    "AWS Shield provides always-on detection and automatic inline mitigations that minimize application downtime and latency, so there is no need to engage AWS Support to benefit from DDoS protection. There are two tiers of AWS Shield - Standard and Advanced.\n",
    "\n",
    "When you use AWS Shield Standard with Amazon CloudFront and Amazon Route 53, you receive comprehensive availability protection against all known infrastructure (**Layer 3 and 4**) attacks.\n",
    "\n",
    "AWS Shield Advanced is available globally on all Amazon CloudFront, AWS Global Accelerator, and Amazon Route 53 edge locations.\n",
    "\n",
    "You can protect your web applications hosted anywhere in the world by deploying Amazon CloudFront in front of your application.\n",
    "\n",
    "You can also enable AWS Shield Advanced directly on an Elastic IP or Elastic Load Balancing"
   ]
  },
  {
   "cell_type": "markdown",
   "metadata": {},
   "source": [
    "#### INFO \n",
    "AWS Security Hub provides a comprehensive view of security state in AWS and helps to check compliance with the security industry standards and best practices. Security Hub collects security data from across AWS accounts, services, and supported third-party partner products and helps to analyze your security trends and identify the highest priority security issues. \n",
    "\n",
    "AWS WAF is a web application firewall that monitors HTTP and HTTPS requests that are forwarded to an Amazon API Gateway API, Amazon CloudFront or an Application Load Balancer. AWS WAF also lets you control access to content. AWS WAF web access control lists (web ACLs) can be used to help minimize the effects of a distributed denial of service (DDoS) attack. For additional protection against DDoS attacks, AWS also provides AWS Shield Standard and AWS Shield Advanced. \n",
    "\n",
    "AWS Firewall Manager simplifies administration and maintenance tasks across multiple accounts and resources for AWS WAF rules, AWS Shield Advanced protection, and Amazon VPC security groups. The Firewall Manager service automatically applies rules and other security protections across accounts and resources, even as new accounts and resources are added."
   ]
  },
  {
   "cell_type": "markdown",
   "metadata": {},
   "source": [
    "## Application Backup"
   ]
  },
  {
   "cell_type": "markdown",
   "metadata": {},
   "source": [
    "TEXT"
   ]
  },
  {
   "cell_type": "code",
   "execution_count": null,
   "metadata": {},
   "outputs": [],
   "source": []
  },
  {
   "cell_type": "code",
   "execution_count": null,
   "metadata": {},
   "outputs": [],
   "source": []
  },
  {
   "cell_type": "code",
   "execution_count": null,
   "metadata": {},
   "outputs": [],
   "source": []
  },
  {
   "cell_type": "code",
   "execution_count": null,
   "metadata": {},
   "outputs": [],
   "source": []
  },
  {
   "cell_type": "code",
   "execution_count": null,
   "metadata": {},
   "outputs": [],
   "source": []
  },
  {
   "cell_type": "code",
   "execution_count": null,
   "metadata": {},
   "outputs": [],
   "source": []
  },
  {
   "cell_type": "code",
   "execution_count": null,
   "metadata": {},
   "outputs": [],
   "source": []
  },
  {
   "cell_type": "markdown",
   "metadata": {},
   "source": [
    "## Exam Prep\n",
    "https://acloud.guru/course/aws-certified-cloud-practitioner/learn/Cloud-Concepts-And-Technology/cloud-concepts-and-technology-summary/watch?backUrl=~2Fcourses\n",
    "\n",
    "https://acloud.guru/course/aws-certified-cloud-practitioner/learn/Cloud-Concepts-And-Technology/93f8e2e8-97ca-9690-7e14-84b73ea38a1e/watch?backUrl=~2Fcourses\n",
    "\n",
    "https://acloud.guru/course/aws-certified-cloud-practitioner/learn/billing-and-pricing/chapter-3-quiz/watch?backUrl=~2Fcourses\n",
    "\n",
    "https://acloud.guru/course/aws-certified-cloud-practitioner/learn/security-in-the-cloud/chapter-4-quiz/watch?backUrl=~2Fcourses\n",
    "\n",
    "https://acloud.guru/course/aws-certified-cloud-practitioner/learn/security-in-the-cloud/security-summary/watch?backUrl=~2Fcourses\n",
    "\n",
    "https://acloud.guru/course/aws-certified-cloud-practitioner/learn/68c666ec-4d85-045f-a827-3066fc5628c5/3de1c119-6180-0927-d883-5f39f72b9bd2/watch?backUrl=~2Fcourses\n",
    "\n",
    "https://acloud.guru/exam-simulator/start?courseId=aws-certified-cloud-practitioner\n"
   ]
  },
  {
   "cell_type": "markdown",
   "metadata": {},
   "source": []
  },
  {
   "cell_type": "markdown",
   "metadata": {},
   "source": []
  },
  {
   "cell_type": "markdown",
   "metadata": {},
   "source": []
  },
  {
   "cell_type": "markdown",
   "metadata": {},
   "source": []
  },
  {
   "cell_type": "markdown",
   "metadata": {},
   "source": []
  },
  {
   "cell_type": "markdown",
   "metadata": {},
   "source": []
  },
  {
   "cell_type": "markdown",
   "metadata": {},
   "source": []
  },
  {
   "cell_type": "markdown",
   "metadata": {},
   "source": []
  },
  {
   "cell_type": "markdown",
   "metadata": {},
   "source": []
  },
  {
   "cell_type": "markdown",
   "metadata": {},
   "source": []
  },
  {
   "cell_type": "markdown",
   "metadata": {},
   "source": []
  },
  {
   "cell_type": "markdown",
   "metadata": {},
   "source": []
  },
  {
   "cell_type": "markdown",
   "metadata": {},
   "source": []
  },
  {
   "cell_type": "markdown",
   "metadata": {},
   "source": []
  },
  {
   "cell_type": "markdown",
   "metadata": {},
   "source": []
  },
  {
   "cell_type": "markdown",
   "metadata": {},
   "source": []
  },
  {
   "cell_type": "markdown",
   "metadata": {},
   "source": []
  },
  {
   "cell_type": "markdown",
   "metadata": {},
   "source": []
  },
  {
   "cell_type": "markdown",
   "metadata": {},
   "source": [
    "<h1 style='color:orange'>TO DO</h1>"
   ]
  },
  {
   "cell_type": "markdown",
   "metadata": {},
   "source": [
    "Notes on:\n",
    "* RAID0, RAID10, RAID5 (confifugring EBS)\n",
    "* "
   ]
  },
  {
   "cell_type": "markdown",
   "metadata": {},
   "source": [
    " "
   ]
  },
  {
   "cell_type": "markdown",
   "metadata": {},
   "source": [
    " "
   ]
  }
 ],
 "metadata": {
  "kernelspec": {
   "display_name": "Python 3",
   "language": "python",
   "name": "python3"
  },
  "language_info": {
   "codemirror_mode": {
    "name": "ipython",
    "version": 3
   },
   "file_extension": ".py",
   "mimetype": "text/x-python",
   "name": "python",
   "nbconvert_exporter": "python",
   "pygments_lexer": "ipython3",
   "version": "3.7.3"
  },
  "toc": {
   "base_numbering": 1,
   "nav_menu": {},
   "number_sections": true,
   "sideBar": true,
   "skip_h1_title": true,
   "title_cell": "Table of Contents",
   "title_sidebar": "Contents",
   "toc_cell": true,
   "toc_position": {
    "height": "calc(100% - 180px)",
    "left": "10px",
    "top": "150px",
    "width": "336px"
   },
   "toc_section_display": true,
   "toc_window_display": false
  }
 },
 "nbformat": 4,
 "nbformat_minor": 2
}
