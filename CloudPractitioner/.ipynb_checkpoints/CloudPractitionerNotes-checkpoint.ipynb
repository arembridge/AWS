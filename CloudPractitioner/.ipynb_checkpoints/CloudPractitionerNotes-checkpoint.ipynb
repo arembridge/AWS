{
 "cells": [
  {
   "cell_type": "markdown",
   "metadata": {
    "toc": true
   },
   "source": [
    "<h1>Table of Contents<span class=\"tocSkip\"></span></h1>\n",
    "<div class=\"toc\"><ul class=\"toc-item\"><li><span><a href=\"#Intro-to-AWS\" data-toc-modified-id=\"Intro-to-AWS-1\"><span class=\"toc-item-num\">1&nbsp;&nbsp;</span>Intro to AWS</a></span><ul class=\"toc-item\"><li><span><a href=\"#Advantages-of-the-cloud\" data-toc-modified-id=\"Advantages-of-the-cloud-1.1\"><span class=\"toc-item-num\">1.1&nbsp;&nbsp;</span>Advantages of the cloud</a></span></li><li><span><a href=\"#Types-of-Cloud-Computing\" data-toc-modified-id=\"Types-of-Cloud-Computing-1.2\"><span class=\"toc-item-num\">1.2&nbsp;&nbsp;</span>Types of Cloud Computing</a></span></li><li><span><a href=\"#Regions-/-Availability-Zones\" data-toc-modified-id=\"Regions-/-Availability-Zones-1.3\"><span class=\"toc-item-num\">1.3&nbsp;&nbsp;</span>Regions / Availability Zones</a></span></li></ul></li><li><span><a href=\"#IAM\" data-toc-modified-id=\"IAM-2\"><span class=\"toc-item-num\">2&nbsp;&nbsp;</span>IAM</a></span><ul class=\"toc-item\"><li><span><a href=\"#Users,-Groups-and-Policies\" data-toc-modified-id=\"Users,-Groups-and-Policies-2.1\"><span class=\"toc-item-num\">2.1&nbsp;&nbsp;</span>Users, Groups and Policies</a></span></li><li><span><a href=\"#Billing-alerts\" data-toc-modified-id=\"Billing-alerts-2.2\"><span class=\"toc-item-num\">2.2&nbsp;&nbsp;</span>Billing alerts</a></span></li><li><span><a href=\"#Account-Support\" data-toc-modified-id=\"Account-Support-2.3\"><span class=\"toc-item-num\">2.3&nbsp;&nbsp;</span>Account Support</a></span></li></ul></li><li><span><a href=\"#S3\" data-toc-modified-id=\"S3-3\"><span class=\"toc-item-num\">3&nbsp;&nbsp;</span>S3</a></span><ul class=\"toc-item\"><li><span><a href=\"#What-is-S3?\" data-toc-modified-id=\"What-is-S3?-3.1\"><span class=\"toc-item-num\">3.1&nbsp;&nbsp;</span>What is S3?</a></span></li><li><span><a href=\"#S3-Objects\" data-toc-modified-id=\"S3-Objects-3.2\"><span class=\"toc-item-num\">3.2&nbsp;&nbsp;</span>S3 Objects</a></span></li><li><span><a href=\"#S3-Storage\" data-toc-modified-id=\"S3-Storage-3.3\"><span class=\"toc-item-num\">3.3&nbsp;&nbsp;</span>S3 Storage</a></span></li><li><span><a href=\"#S3-Charges\" data-toc-modified-id=\"S3-Charges-3.4\"><span class=\"toc-item-num\">3.4&nbsp;&nbsp;</span>S3 Charges</a></span></li><li><span><a href=\"#Transfer-Acceleration\" data-toc-modified-id=\"Transfer-Acceleration-3.5\"><span class=\"toc-item-num\">3.5&nbsp;&nbsp;</span>Transfer Acceleration</a></span></li><li><span><a href=\"#Cross-Region-Replication\" data-toc-modified-id=\"Cross-Region-Replication-3.6\"><span class=\"toc-item-num\">3.6&nbsp;&nbsp;</span>Cross Region Replication</a></span></li></ul></li><li><span><a href=\"#Cloud-Front\" data-toc-modified-id=\"Cloud-Front-4\"><span class=\"toc-item-num\">4&nbsp;&nbsp;</span>Cloud Front</a></span><ul class=\"toc-item\"><li><span><a href=\"#Edge-Location\" data-toc-modified-id=\"Edge-Location-4.1\"><span class=\"toc-item-num\">4.1&nbsp;&nbsp;</span>Edge Location</a></span></li><li><span><a href=\"#Origin\" data-toc-modified-id=\"Origin-4.2\"><span class=\"toc-item-num\">4.2&nbsp;&nbsp;</span>Origin</a></span></li><li><span><a href=\"#Distribution\" data-toc-modified-id=\"Distribution-4.3\"><span class=\"toc-item-num\">4.3&nbsp;&nbsp;</span>Distribution</a></span></li><li><span><a href=\"#TTL---Time-to-Live\" data-toc-modified-id=\"TTL---Time-to-Live-4.4\"><span class=\"toc-item-num\">4.4&nbsp;&nbsp;</span>TTL - Time to Live</a></span></li></ul></li><li><span><a href=\"#EC2\" data-toc-modified-id=\"EC2-5\"><span class=\"toc-item-num\">5&nbsp;&nbsp;</span>EC2</a></span><ul class=\"toc-item\"><li><span><a href=\"#What-is-EC2\" data-toc-modified-id=\"What-is-EC2-5.1\"><span class=\"toc-item-num\">5.1&nbsp;&nbsp;</span>What is EC2</a></span></li><li><span><a href=\"#Pricing-Models\" data-toc-modified-id=\"Pricing-Models-5.2\"><span class=\"toc-item-num\">5.2&nbsp;&nbsp;</span>Pricing Models</a></span><ul class=\"toc-item\"><li><span><a href=\"#On-Demand\" data-toc-modified-id=\"On-Demand-5.2.1\"><span class=\"toc-item-num\">5.2.1&nbsp;&nbsp;</span>On Demand</a></span></li><li><span><a href=\"#Reserved\" data-toc-modified-id=\"Reserved-5.2.2\"><span class=\"toc-item-num\">5.2.2&nbsp;&nbsp;</span>Reserved</a></span></li><li><span><a href=\"#Spot\" data-toc-modified-id=\"Spot-5.2.3\"><span class=\"toc-item-num\">5.2.3&nbsp;&nbsp;</span>Spot</a></span></li><li><span><a href=\"#Dedicated-hosts\" data-toc-modified-id=\"Dedicated-hosts-5.2.4\"><span class=\"toc-item-num\">5.2.4&nbsp;&nbsp;</span>Dedicated hosts</a></span></li></ul></li><li><span><a href=\"#EBS\" data-toc-modified-id=\"EBS-5.3\"><span class=\"toc-item-num\">5.3&nbsp;&nbsp;</span>EBS</a></span><ul class=\"toc-item\"><li><span><a href=\"#Magnetic\" data-toc-modified-id=\"Magnetic-5.3.1\"><span class=\"toc-item-num\">5.3.1&nbsp;&nbsp;</span>Magnetic</a></span></li><li><span><a href=\"#SSD\" data-toc-modified-id=\"SSD-5.3.2\"><span class=\"toc-item-num\">5.3.2&nbsp;&nbsp;</span>SSD</a></span></li></ul></li><li><span><a href=\"#Firewalls\" data-toc-modified-id=\"Firewalls-5.4\"><span class=\"toc-item-num\">5.4&nbsp;&nbsp;</span>Firewalls</a></span></li><li><span><a href=\"#Accessing-EC2\" data-toc-modified-id=\"Accessing-EC2-5.5\"><span class=\"toc-item-num\">5.5&nbsp;&nbsp;</span>Accessing EC2</a></span></li><li><span><a href=\"#Roles---top-tips\" data-toc-modified-id=\"Roles---top-tips-5.6\"><span class=\"toc-item-num\">5.6&nbsp;&nbsp;</span>Roles - top tips</a></span><ul class=\"toc-item\"><li><span><a href=\"#AMI\" data-toc-modified-id=\"AMI-5.6.1\"><span class=\"toc-item-num\">5.6.1&nbsp;&nbsp;</span>AMI</a></span></li></ul></li></ul></li><li><span><a href=\"#Elastic-Load-Balancer\" data-toc-modified-id=\"Elastic-Load-Balancer-6\"><span class=\"toc-item-num\">6&nbsp;&nbsp;</span>Elastic Load Balancer</a></span><ul class=\"toc-item\"><li><span><a href=\"#Application-Load-Balancer\" data-toc-modified-id=\"Application-Load-Balancer-6.1\"><span class=\"toc-item-num\">6.1&nbsp;&nbsp;</span>Application Load Balancer</a></span></li><li><span><a href=\"#Network-Load-Balancer\" data-toc-modified-id=\"Network-Load-Balancer-6.2\"><span class=\"toc-item-num\">6.2&nbsp;&nbsp;</span>Network Load Balancer</a></span></li><li><span><a href=\"#Classic-Load-Balancer\" data-toc-modified-id=\"Classic-Load-Balancer-6.3\"><span class=\"toc-item-num\">6.3&nbsp;&nbsp;</span>Classic Load Balancer</a></span></li></ul></li><li><span><a href=\"#VPC\" data-toc-modified-id=\"VPC-7\"><span class=\"toc-item-num\">7&nbsp;&nbsp;</span>VPC</a></span></li><li><span><a href=\"#Databases\" data-toc-modified-id=\"Databases-8\"><span class=\"toc-item-num\">8&nbsp;&nbsp;</span>Databases</a></span><ul class=\"toc-item\"><li><span><a href=\"#Relational-Database---RDS\" data-toc-modified-id=\"Relational-Database---RDS-8.1\"><span class=\"toc-item-num\">8.1&nbsp;&nbsp;</span>Relational Database - RDS</a></span></li><li><span><a href=\"#Relational-Database---Aurora\" data-toc-modified-id=\"Relational-Database---Aurora-8.2\"><span class=\"toc-item-num\">8.2&nbsp;&nbsp;</span>Relational Database - Aurora</a></span></li><li><span><a href=\"#Non-relational-databases---DynamoDB\" data-toc-modified-id=\"Non-relational-databases---DynamoDB-8.3\"><span class=\"toc-item-num\">8.3&nbsp;&nbsp;</span>Non-relational databases - DynamoDB</a></span></li><li><span><a href=\"#Redshift\" data-toc-modified-id=\"Redshift-8.4\"><span class=\"toc-item-num\">8.4&nbsp;&nbsp;</span>Redshift</a></span></li><li><span><a href=\"#Elasticache\" data-toc-modified-id=\"Elasticache-8.5\"><span class=\"toc-item-num\">8.5&nbsp;&nbsp;</span>Elasticache</a></span></li><li><span><a href=\"#AWS-Search-functions\" data-toc-modified-id=\"AWS-Search-functions-8.6\"><span class=\"toc-item-num\">8.6&nbsp;&nbsp;</span>AWS Search functions</a></span></li><li><span><a href=\"#Graph-Databases\" data-toc-modified-id=\"Graph-Databases-8.7\"><span class=\"toc-item-num\">8.7&nbsp;&nbsp;</span>Graph Databases</a></span></li></ul></li><li><span><a href=\"#Domain-Name-System-(DNS)---Route-53\" data-toc-modified-id=\"Domain-Name-System-(DNS)---Route-53-9\"><span class=\"toc-item-num\">9&nbsp;&nbsp;</span>Domain Name System (DNS) - Route 53</a></span></li><li><span><a href=\"#Elastic-Beanstalk\" data-toc-modified-id=\"Elastic-Beanstalk-10\"><span class=\"toc-item-num\">10&nbsp;&nbsp;</span>Elastic Beanstalk</a></span></li><li><span><a href=\"#Cloud-Formation\" data-toc-modified-id=\"Cloud-Formation-11\"><span class=\"toc-item-num\">11&nbsp;&nbsp;</span>Cloud Formation</a></span><ul class=\"toc-item\"><li><span><a href=\"#Cloud-Formation-vs-Elastic-Beanstalk\" data-toc-modified-id=\"Cloud-Formation-vs-Elastic-Beanstalk-11.1\"><span class=\"toc-item-num\">11.1&nbsp;&nbsp;</span>Cloud Formation vs Elastic Beanstalk</a></span></li></ul></li><li><span><a href=\"#Global-vs-regional-services\" data-toc-modified-id=\"Global-vs-regional-services-12\"><span class=\"toc-item-num\">12&nbsp;&nbsp;</span>Global vs regional services</a></span></li><li><span><a href=\"#Which-services-can-be-used-on-premise?\" data-toc-modified-id=\"Which-services-can-be-used-on-premise?-13\"><span class=\"toc-item-num\">13&nbsp;&nbsp;</span>Which services can be used on premise?</a></span><ul class=\"toc-item\"><li><span><a href=\"#Deploying-applications-on-premise\" data-toc-modified-id=\"Deploying-applications-on-premise-13.1\"><span class=\"toc-item-num\">13.1&nbsp;&nbsp;</span>Deploying applications on premise</a></span></li></ul></li><li><span><a href=\"#Cloudwatch\" data-toc-modified-id=\"Cloudwatch-14\"><span class=\"toc-item-num\">14&nbsp;&nbsp;</span>Cloudwatch</a></span></li><li><span><a href=\"#AWS-Systems-Manager\" data-toc-modified-id=\"AWS-Systems-Manager-15\"><span class=\"toc-item-num\">15&nbsp;&nbsp;</span>AWS Systems Manager</a></span></li><li><span><a href=\"#Exam-Prep\" data-toc-modified-id=\"Exam-Prep-16\"><span class=\"toc-item-num\">16&nbsp;&nbsp;</span>Exam Prep</a></span></li></ul></div>"
   ]
  },
  {
   "cell_type": "markdown",
   "metadata": {},
   "source": [
    "# Cloud Practitioner Notes"
   ]
  },
  {
   "cell_type": "markdown",
   "metadata": {},
   "source": [
    "## Intro to AWS"
   ]
  },
  {
   "cell_type": "markdown",
   "metadata": {},
   "source": [
    "### Advantages of the cloud\n",
    "\n",
    "* Trade capital expense for variable expense\n",
    "* Benefit from massive economies of scale\n",
    "* Stop guessing about capacity\n",
    "* Increase speed and agility \n",
    "* Stop spending money running and maintaining servers\n",
    "* Go global in minutes"
   ]
  },
  {
   "cell_type": "markdown",
   "metadata": {},
   "source": [
    "### Types of Cloud Computing\n",
    "\n",
    "<img src=\"images/saas-vs-paas-vs-iaas.jpg\" width=\"600\">\n",
    "\n",
    "**IAAS**: Infrastructure as a service (e.g. AWS, GCP)\n",
    "\n",
    "**PAAS**: Platform as a service (e.g. GoDaddy website serving)\n",
    "\n",
    "**SAAS**: Software as a service (e.g. Dropbox, Slack)"
   ]
  },
  {
   "cell_type": "markdown",
   "metadata": {},
   "source": [
    "### Regions / Availability Zones\n",
    "\n",
    "<img src=\"images/regions_availability_zones.png\" width=\"600\">\n",
    "\n",
    "**Region**: An AWS Region is a separate geographic area.\n",
    "\n",
    "**Availability Zone**: An Availability Zone is a 'data centre' (or group of very nearby data centres).  Typically a region is composed of many availability zones.\n",
    "\n",
    "**Edge Location**: An edge location is an endpoint for AWS which is used for caching content.  Once the content has been downloaded once at the endpoint it will remain there for quicker access in future.  (Often using CloudFront, Amazon's Content Delivery Network)."
   ]
  },
  {
   "cell_type": "markdown",
   "metadata": {},
   "source": [
    "## IAM"
   ]
  },
  {
   "cell_type": "markdown",
   "metadata": {},
   "source": [
    "### Users, Groups and Policies\n",
    "\n",
    "**Users**: An IAM user is an entity that you create in AWS. The IAM user represents the person or service who uses the IAM user to interact with AWS.  You should create individual users for all people in your organisation.\n",
    "\n",
    "**Groups**: An IAM group is a collection of IAM users. You can use groups to specify permissions for a collection of users, which can make those permissions easier to manage for those users. For example, you could have a group called Admins and give that group the types of permissions that administrators typically need.\n",
    "\n",
    "**Policies**: A policy is an object in AWS that, when associated with an identity or resource, defines their permissions.\n",
    "\n",
    "**Roles**: An IAM role is very similar to a user, in that it is an identity with permission policies that determine what the identity can and cannot do in AWS. However, a role does not have any credentials (password or access keys) associated with it. Instead of being uniquely associated with one person, a role is intended to be assumable by anyone who needs it."
   ]
  },
  {
   "cell_type": "markdown",
   "metadata": {},
   "source": [
    "### Billing alerts\n",
    "\n",
    "You can set up billing alerts using SNS to notify you when your charges exceed a certain threshold.  Access this through **My Billing Dashboard** in the account dropdown and then **Billing Preferences**.  You can configure this in greater detail by going to **CloudWatch** and clicking on **Billing**.\n"
   ]
  },
  {
   "cell_type": "markdown",
   "metadata": {},
   "source": [
    "### Account Support\n",
    "\n",
    "**Basic**:  AWS's free account with access to the AWS Community Forums and account/billing support.\n",
    "\n",
    "**Developer**: One primary account holder has access to the Support Centre from $29/month and can expect a response within 12-24 hours.  Price is scalable dependent on usage.\n",
    "\n",
    "**Business**: $100/month from 24/7 support by phone and chat.  1-hour response for urgent support cases and help with common third party software.  Full access to AWS Trusted Advisor.   Access to the AWS Support API. Price is scalable dependent on usage.\n",
    "\n",
    "**Enterprise**: $15,000/month.  All the features of business but with an assigned Technical Account Manager (TAM).  Support Concierge who provies billing and account analysis.  Access to Event Infrastructure Management to support product launches. 15-minute response time."
   ]
  },
  {
   "cell_type": "markdown",
   "metadata": {},
   "source": [
    "## S3"
   ]
  },
  {
   "cell_type": "markdown",
   "metadata": {},
   "source": [
    "### What is S3?\n",
    "\n",
    "S3 stands for **Simple Storage Server**.  AWS say that it `\"provides users with secure, durable and highly scalable object storage.\"`  Think of it as a big folder in the cloud.\n",
    "\n",
    "**Fundamentals:**\n",
    "\n",
    "* S3 is object based storage.  Each file is an object.  \n",
    "* Files can be from 0Bytes to 5TeraBytes.\n",
    "* There is unlimited storage.\n",
    "* Files are stored in buckets.\n",
    "* S3 scales automatically to meet demands (e.g. you can host a static website and availability will scale with demand)\n",
    "\n",
    "**Details**:\n",
    "\n",
    "* S3 is a universal namespace, meaning that your bucket name HAS to be unique. e.g. 'test-bucket' is not available as it has already been taken.\n",
    "* An S3 bucket typically takes the format: https://s3-eu-west-1.amazonaws.com/my-bucket-name-here\n",
    "* You receive a **HTTP 200** code when a file has been successfully uploaded to S3."
   ]
  },
  {
   "cell_type": "markdown",
   "metadata": {},
   "source": [
    "### S3 Objects\n",
    "\n",
    "Think of objects as 'files'.  Each object consists of:\n",
    "\n",
    "* Key (name of the object)\n",
    "* Value (the content/data of the object)\n",
    "* Version ID (used for versioning your files)\n",
    "* Metadata (about the object being stored)\n",
    "* Subresources (there are extra resources available such as Access Control Lists)\n",
    "\n",
    "\n",
    "|Concept|Explanation|Example|\n",
    "|-----|-----|-----|\n",
    "|'Read after write consistency' for PUTS of new objects|An object must be readable as soon as it is uploaded|If you write a file to s3, someone else can instantly access it|\n",
    "|'Eventual consistency' for overwrite PUTS and DELETES|An object will eventually be consistent if it is overwritten or deleted|If you overwrite a file in s3, someone who immediately accesses this file might accidentally access the old version.  Also, if you delete a file, it may be accessible for a short period of time.|\n",
    "\n",
    "* Built for 99.99% availability\n",
    "* Amazon guarantees 99.9% availability\n",
    "* Amazon guarantees 99.999999999% durability for s3 information (i.e. very small of data lost)\n",
    "\n",
    "S3 features:\n",
    "\n",
    "* Tiered Storage Available - TEXT\n",
    "* Lifecycle management - TEXT\n",
    "* Versioning\n",
    "* Encryption\n",
    "* Access Control Lists and Bucket Policies - TEXT\n"
   ]
  },
  {
   "cell_type": "markdown",
   "metadata": {},
   "source": [
    "### S3 Storage\n",
    "\n",
    "S3 storage types:\n",
    "* S3 standard - \n",
    "* S3 IA - \n",
    "* S3 One Zone - IA\n",
    "* S3 - Intelligent Tiering\n",
    "* S3 Glacier\n",
    "* S3 Glacier Deep Archive \n",
    "\n",
    "\n",
    "<img src=\"images/s3_storage.png\" width=\"1000\">"
   ]
  },
  {
   "cell_type": "markdown",
   "metadata": {},
   "source": [
    "### S3 Charges \n",
    "\n",
    "* Storage\n",
    "* Requests\n",
    "* Storage Management\n",
    "* Data Transfer\n",
    "* Transfer Acceleration\n",
    "* Cross Region Replication\n"
   ]
  },
  {
   "cell_type": "markdown",
   "metadata": {},
   "source": [
    "### Transfer Acceleration\n",
    "\n",
    "Transfer Acceleration takes advantage of Amazon's Edge Locations to make uploading data quicker.  As data arrives at an edge location data is routed to Amazon S3 via Amazon's optimized network path.\n",
    "\n",
    "<img src=\"images/transfer_acceleration.png\" width=\"600\">"
   ]
  },
  {
   "cell_type": "markdown",
   "metadata": {},
   "source": [
    "### Cross Region Replication\n",
    "\n",
    "This can help reduce latency, increasing download speed and offers support with disaster recovery.\n",
    "\n",
    "<img src=\"images/cross_region_replication.png\" width=\"600\">"
   ]
  },
  {
   "cell_type": "markdown",
   "metadata": {},
   "source": [
    "## Cloud Front\n",
    "<img src=\"images/cloudfront.jpg\" width=\"400\">\n",
    "\n",
    "Cloud Front is Amazon's Content Delivery Network and is composed of Edge Locations.  It delivers content such as webpages to a user based on their location.\n",
    "\n",
    "It caches regularly used files.  If a user accesses a file for the first time it has to be downloaded from the original source.  The next time this file is downloaded, it will be downloaded from the cached file at the edge location, which will be considerably quicker.\n",
    "\n",
    "### Edge Location\n",
    "This is where the content is cached.  (Note that this is separate to an AWS region or availability zone)\n",
    "### Origin\n",
    "This is the origin of all the files to be distributed.  This can be an S3 bucket, an EC2 instance, a Load Balancer or Route53.\n",
    "### Distribution\n",
    "This is the name given to the CDN (made up of edge locations).\n",
    "### TTL - Time to Live\n",
    "This is the duration that a file will be cached for at an edge location.  This is typically specified in seconds and a common duration is 48hours.  "
   ]
  },
  {
   "cell_type": "markdown",
   "metadata": {},
   "source": [
    "## EC2\n",
    "Elastic Compute Cloud\n",
    "<img src=\"images/ec2.png\" width=\"200\">\n",
    "\n",
    "### What is EC2\n",
    "EC2 is just a virtual server in the cloud.  Being quickly available in the cloud reduces the time required to boot new server instances, allowing users to scale applications quickly.  \n",
    "\n",
    "### Pricing Models\n",
    "#### On Demand\n",
    "Allows you to pay a fixed rate per hour (or per second). Best for:\n",
    "* Flexibility\n",
    "* No up-front payments\n",
    "* Applications with short term, spiky or unpredictable workloads.\n",
    "* Testing of new applications\n",
    "\n",
    "#### Reserved\n",
    "Reserving instances offers a significant discount on the hourly charge.  Requires a contract of typically 1 or 3 years.  Paying up front offers the greatest discount.  Best for:\n",
    "* Applications with steady or predictable usage\n",
    "* Applications that require reserved capacity\n",
    "* Users able to make up-front payments to reduce their total computing costs\n",
    "Reserved pricing types:\n",
    "* Standard Reserved instances\n",
    "* Convertible Reserved instances\n",
    "* Scheduled Reserved instances\n",
    "\n",
    "#### Spot\n",
    "Like a stock market for EC2 instances.  Runs your application while the price is below your chosen threshold.  Great for tasks that can be carried out at any time and don't require regular coverage (e.g. processing a batch of tasks at night once a week).  Best for:\n",
    "* Applications with flexible start/end times\n",
    "* Applications only feasible at very low compute prices \n",
    "* Users that need large amounts of additional capacity\n",
    "* **NOTE**: you will not be charged for partial usage if your instance is terminated because the price becomes too high.  You will be charged partial usage if you terminate the instance out of choice.\n",
    "\n",
    "\n",
    "#### Dedicated hosts\n",
    "Physical EC2 server restricted for sole usage by the user (similar to the old, traditional server provider model).  Large discount, but typically only used if needed for regulatory/license requirements.  Best for:\n",
    "* Meeting regulatory/license requirements \n",
    "* Can be purchased on-demand (hourly)\n",
    "* Can be purchased as a reservation for a 70% discount"
   ]
  },
  {
   "cell_type": "markdown",
   "metadata": {},
   "source": [
    "### EBS\n",
    "Cloud storage\n",
    "<img src=\"images/ebs.png\" width=\"600\">\n",
    "\n",
    "\n",
    "#### Magnetic\n",
    "**Throughput Optimized HDD (ST1)** - Low cost HDD volume designed for frequently access, through-put intensive workloads.\n",
    "\n",
    "**Cold HDD (SC1)** - Lowest cost HDD volumne designed for less frequently accessed workloads.\n",
    "#### SSD\n",
    "**General Purpose SSD (GP2)** - Balances price and performance for a wide variety of workloads.\n",
    "\n",
    "**Provisioned IOPS SSD (IO1)** - Highest performance SSD for mission critical workloads (IO stands for fast Input/Output)\n",
    "\n"
   ]
  },
  {
   "cell_type": "markdown",
   "metadata": {},
   "source": [
    "### Firewalls\n",
    "Firewalls allow communications through different ports.  \n",
    "<img src=\"images/ports.png\" width=\"600\">"
   ]
  },
  {
   "cell_type": "markdown",
   "metadata": {},
   "source": [
    "We can specify which ports to allow:\n",
    "<img src=\"images/port_restrictions.png\" width=\"400\">\n"
   ]
  },
  {
   "cell_type": "markdown",
   "metadata": {},
   "source": [
    "We can configure the firewalls for EC2 by specifying the ports and IP addresses.`"
   ]
  },
  {
   "cell_type": "markdown",
   "metadata": {},
   "source": [
    "### Accessing EC2\n",
    "We use privates keys (in a .pem file) to access an EC2 instance."
   ]
  },
  {
   "cell_type": "markdown",
   "metadata": {},
   "source": [
    "### Roles - top tips\n",
    "\n",
    "Roles are much more secure than access keys.  \n",
    "Roles are easier to manage than access keys.  \n",
    "You can apply roles to EC2 instances at any time.  \n",
    "Roles are universal, similar to users."
   ]
  },
  {
   "cell_type": "markdown",
   "metadata": {},
   "source": [
    "#### AMI\n",
    "Taking an **image** of an EC2 instance allows a user to enable auto-scaling.  Taking a snapshot allows a user to 'copy/paste' EC2 instances."
   ]
  },
  {
   "cell_type": "markdown",
   "metadata": {},
   "source": [
    "## Elastic Load Balancer\n",
    "\n",
    "### Application Load Balancer\n",
    "\n",
    "An application load balancer is 'application aware' able to see into layer 7, meaning that it is able to make intelligent routing decisions to optimize your traffic.\n",
    "\n",
    "### Network Load Balancer\n",
    "This is for when you need optimal performance and static IP addresses.\n",
    "\n",
    "### Classic Load Balancer\n",
    "This is the original AWS load balancer and are pretty basic.  Use these to keep costs low.\n"
   ]
  },
  {
   "cell_type": "markdown",
   "metadata": {},
   "source": [
    "## VPC"
   ]
  },
  {
   "cell_type": "markdown",
   "metadata": {},
   "source": [
    "INSERT TEXT HERE\n"
   ]
  },
  {
   "cell_type": "markdown",
   "metadata": {},
   "source": [
    "## Databases"
   ]
  },
  {
   "attachments": {},
   "cell_type": "markdown",
   "metadata": {},
   "source": [
    "### Relational Database - RDS\n",
    "**Key Features**:\n",
    "* Multi-availability zones for disaster recovery\n",
    "* Read replicas (for performance)\n",
    "\n",
    "<img src=\"images/db.jpg\" width=\"400\">\n",
    "\n",
    "**Note**: You can configure all of your writes to one database, and all your reads from your replica database.  This leads to a huge boost in performance.\n",
    "\n",
    "\n",
    "### Relational Database - Aurora\n",
    "**Key Features**:\n",
    "* Multi-availability zones for disaster recovery\n",
    "\n",
    "<img src=\"images/aurora.jpeg\" width=\"400\">\n",
    "\n",
    "\n",
    "### Non-relational databases - DynamoDB\n",
    "**Key Features**:\n",
    "* you can have any nubmer of columns for each entry.  Other entries won't be effected.  This allows for a lot more flexibility.\n",
    "\n",
    "<img src=\"images/dynamo_db.png\" width=\"400\">\n",
    "\n",
    "\n",
    "**Online Transaction Processing (OLTP)**\n",
    "Pulls in the information for one record. e.g.\n",
    "\n",
    "*Query*: Order number 212121  \n",
    "*Returns*: Name, Date of order, Delivery address, etc\n",
    "\n",
    "**Online Analytics Processing (OLAP)**  \n",
    "Pulls in large numbers of records. e.g.\n",
    "\n",
    "*Query*: Net profit for EMEA for Digital Radio product  \n",
    "*Returns*: Sum of EMEA, sum of unit cost, sum of retail price, calculation of net profit.\n",
    "\n",
    "Because these queries are more complicated and computationally heavy, **Data Warehousing** was created.  These have a different architecture allowing for complicated queries without affecting the performance of the source database.  Amazon's offering for Data Warehousing is called **Amazon Redshift**.  "
   ]
  },
  {
   "cell_type": "markdown",
   "metadata": {},
   "source": [
    "### Redshift \n",
    "**Key Features**:\n",
    "* Scalable\n",
    "* Multi-availability zone\n",
    "* Not designed for OLTP\n",
    "\n",
    "<img src=\"images/redshift.png\" width=\"400\">"
   ]
  },
  {
   "cell_type": "markdown",
   "metadata": {},
   "source": [
    "### Elasticache\n",
    "Elasticache is a web service that allows you to deploy, operate and scale an in-memory cache in the cloud.  This improves the performance of web applications that need to query data.\n",
    "\n",
    "Elasticache supports two open-source in-memory caching engines:\n",
    "\n",
    "* Memcached \n",
    "* Redis"
   ]
  },
  {
   "cell_type": "markdown",
   "metadata": {},
   "source": [
    "### AWS Search functions\n",
    "**Cloud Search** and **Elastic Search** are the two search offerings from AWS.\n",
    "\n"
   ]
  },
  {
   "cell_type": "markdown",
   "metadata": {},
   "source": [
    "### Graph Databases\n",
    "**Amazon Neptune** is AWS's graph database offering\n",
    "\n",
    "<img src=\"images/neptune.jpg\" width=\"400\">\n",
    "<img src=\"images/neptune_example.png\" width=\"400\">\n",
    "\n",
    "\n"
   ]
  },
  {
   "cell_type": "markdown",
   "metadata": {},
   "source": [
    "## Domain Name System (DNS) - Route 53"
   ]
  },
  {
   "cell_type": "markdown",
   "metadata": {},
   "source": [
    "A domain name system works just like a phone book.  \n",
    "\n",
    "You can register a domain through Route 53.  Route 53 is global (like S3 and IAM).  You can use Route 53 to redirect traffic all over the world."
   ]
  },
  {
   "cell_type": "markdown",
   "metadata": {},
   "source": [
    "## Elastic Beanstalk"
   ]
  },
  {
   "cell_type": "markdown",
   "metadata": {},
   "source": [
    "<img src=\"images/elasticbeanstalk.png\" width=\"600\">"
   ]
  },
  {
   "cell_type": "markdown",
   "metadata": {},
   "source": [
    "Elastic Beanstalk allows you to quickly configure applications without worrying about the infrastructure.  You simply load your application and EB automatically handles the details of capacity provisioning, load balancing, scaling and application health monitoring.\n",
    "\n",
    "Provide the seed, let the beanstalk *automatically* grow!"
   ]
  },
  {
   "cell_type": "markdown",
   "metadata": {},
   "source": [
    "## Cloud Formation"
   ]
  },
  {
   "cell_type": "markdown",
   "metadata": {},
   "source": [
    "Cloud Formation is a service that allows you to model and set up your AWS resources so that you cna spend less time managing those resources.  You create a template that describes all the AWS resources that you want (like EC2 instances or RDS DB instances) and Cloud Formation takes care of provisioning and configuring these for you.  "
   ]
  },
  {
   "cell_type": "markdown",
   "metadata": {},
   "source": [
    "### Cloud Formation vs Elastic Beanstalk\n",
    "Elastic Beanstalk is limited in what it can provision and is not programmable.  Cloud Formation can provision almost any AWS service and is completely programmable."
   ]
  },
  {
   "cell_type": "markdown",
   "metadata": {},
   "source": [
    "## Global vs regional services"
   ]
  },
  {
   "cell_type": "markdown",
   "metadata": {},
   "source": [
    "|Service|Regional/Global|\n",
    "|----------|----------|\n",
    "|IAM|Global|\n",
    "|Route53|Global|\n",
    "|Cloudfront|Global|\n",
    "|SNS & SES|Global|\n",
    "|S3|Global *view* but is regional|\n"
   ]
  },
  {
   "cell_type": "markdown",
   "metadata": {},
   "source": [
    "## Which services can be used on premise?\n",
    "\n",
    "|Service|Available on premise|\n",
    "|----------|----------|\n",
    "|Snowball|Basically a big 80TB data disk (for quick loading into s3)|\n",
    "|Snowball Edge|Lambda functions on premise (Boeing use this for aircraft testing).  For use where there is no connectivity|\n",
    "|Storage Gateway|Similar to Snowball but stays on premise *permanently*.  This is a way of caching your files on premise.  Replicates on s3|\n",
    "|CodeDeploy|Can be used to deploy code to EC2 or can be used to deploy to local servers|\n",
    "|Opsworks|Similar to Elastic Beanstalk.  Automated deployment.  Available for local servers|\n",
    "|IoT Greengrass|Connects IoT devices to AWS cloud via on premise service|\n",
    "\n",
    "\n",
    "\n"
   ]
  },
  {
   "cell_type": "markdown",
   "metadata": {},
   "source": [
    "### Deploying applications on premise\n",
    "Use Code Deploy and Opsworks"
   ]
  },
  {
   "cell_type": "markdown",
   "metadata": {},
   "source": [
    "## Cloudwatch\n",
    "CloudWatch monitors performance.  It can monitor most of AWS, plus monitoring applications that you specify (e.g. you can upload code to monitor how many people are visiting your website).\n",
    "\n",
    "<img src=\"images/cloudwatch.png\" width=\"600\">"
   ]
  },
  {
   "cell_type": "markdown",
   "metadata": {},
   "source": [
    "## AWS Systems Manager"
   ]
  },
  {
   "cell_type": "markdown",
   "metadata": {},
   "source": [
    "Allows you to manage your EC2 instances (or VM machines) at scale.  You install a piece of software on each EC2 instance allowing conrol from AWS Systems Manager"
   ]
  },
  {
   "cell_type": "markdown",
   "metadata": {},
   "source": [
    "<img src=\"images/awssystemsmanager.png\" width=\"600\"> \n",
    "Integrates with Cloudwatch to provide monitoring."
   ]
  },
  {
   "cell_type": "markdown",
   "metadata": {},
   "source": []
  },
  {
   "cell_type": "markdown",
   "metadata": {},
   "source": [
    "## Exam Prep\n",
    "https://acloud.guru/course/aws-certified-cloud-practitioner/learn/Cloud-Concepts-And-Technology/cloud-concepts-and-technology-summary/watch?backUrl=~2Fcourses\n",
    "\n",
    "https://acloud.guru/course/aws-certified-cloud-practitioner/learn/Cloud-Concepts-And-Technology/93f8e2e8-97ca-9690-7e14-84b73ea38a1e/watch?backUrl=~2Fcourses\n",
    "\n",
    "https://acloud.guru/course/aws-certified-cloud-practitioner/learn/billing-and-pricing/chapter-3-quiz/watch?backUrl=~2Fcourses\n",
    "\n",
    "https://acloud.guru/course/aws-certified-cloud-practitioner/learn/security-in-the-cloud/chapter-4-quiz/watch?backUrl=~2Fcourses\n",
    "\n",
    "https://acloud.guru/course/aws-certified-cloud-practitioner/learn/security-in-the-cloud/security-summary/watch?backUrl=~2Fcourses\n",
    "\n",
    "https://acloud.guru/course/aws-certified-cloud-practitioner/learn/68c666ec-4d85-045f-a827-3066fc5628c5/3de1c119-6180-0927-d883-5f39f72b9bd2/watch?backUrl=~2Fcourses\n",
    "\n",
    "https://acloud.guru/exam-simulator/start?courseId=aws-certified-cloud-practitioner\n"
   ]
  },
  {
   "cell_type": "markdown",
   "metadata": {},
   "source": []
  },
  {
   "cell_type": "markdown",
   "metadata": {},
   "source": []
  },
  {
   "cell_type": "markdown",
   "metadata": {},
   "source": []
  },
  {
   "cell_type": "markdown",
   "metadata": {},
   "source": []
  },
  {
   "cell_type": "markdown",
   "metadata": {},
   "source": []
  },
  {
   "cell_type": "markdown",
   "metadata": {},
   "source": [
    " "
   ]
  },
  {
   "cell_type": "markdown",
   "metadata": {},
   "source": [
    " "
   ]
  }
 ],
 "metadata": {
  "kernelspec": {
   "display_name": "Python 3",
   "language": "python",
   "name": "python3"
  },
  "language_info": {
   "codemirror_mode": {
    "name": "ipython",
    "version": 3
   },
   "file_extension": ".py",
   "mimetype": "text/x-python",
   "name": "python",
   "nbconvert_exporter": "python",
   "pygments_lexer": "ipython3",
   "version": "3.6.8"
  },
  "toc": {
   "base_numbering": 1,
   "nav_menu": {},
   "number_sections": true,
   "sideBar": true,
   "skip_h1_title": true,
   "title_cell": "Table of Contents",
   "title_sidebar": "Contents",
   "toc_cell": true,
   "toc_position": {},
   "toc_section_display": true,
   "toc_window_display": true
  }
 },
 "nbformat": 4,
 "nbformat_minor": 2
}
